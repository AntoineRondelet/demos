{
 "cells": [
  {
   "cell_type": "code",
   "execution_count": null,
   "metadata": {},
   "outputs": [],
   "source": [
    "def getInputPrice(input_amount, input_reserve, output_reserve):\n",
    "    fee_numerator = 997\n",
    "    fee_denominator = 1000\n",
    "    input_amount_with_fee = input_amount * fee_numerator\n",
    "    numerator = input_amount_with_fee * output_reserve\n",
    "    denominator = (input_reserve * fee_denominator) + input_amount_with_fee\n",
    "    return int(numerator // denominator)"
   ]
  },
  {
   "cell_type": "code",
   "execution_count": null,
   "metadata": {},
   "outputs": [],
   "source": [
    "token_balance = 5905035238623641640532                                # uniswap_events['token_balance'][data_counter]\n",
    "eth_balance = 29974555511671268196                                    # uniswap_events['eth_balance'][data_counter]\n",
    "conv_tolerance = 0.05"
   ]
  },
  {
   "cell_type": "code",
   "execution_count": null,
   "metadata": {},
   "outputs": [],
   "source": [
    "real_ETH = getInputPrice(1, eth_balance, token_balance)"
   ]
  },
  {
   "cell_type": "code",
   "execution_count": null,
   "metadata": {},
   "outputs": [],
   "source": [
    "real_ETH"
   ]
  },
  {
   "cell_type": "code",
   "execution_count": null,
   "metadata": {},
   "outputs": [],
   "source": [
    "k = token_balance * eth_balance"
   ]
  },
  {
   "cell_type": "code",
   "execution_count": null,
   "metadata": {},
   "outputs": [],
   "source": [
    "model_token_balance = 5705035238623641640532                                # s['DAI_balance']\n",
    "model_eth_balance = k / model_token_balance                                 # s['ETH_balance']   "
   ]
  },
  {
   "cell_type": "code",
   "execution_count": null,
   "metadata": {},
   "outputs": [],
   "source": [
    "model_eth_balance"
   ]
  },
  {
   "cell_type": "code",
   "execution_count": null,
   "metadata": {},
   "outputs": [],
   "source": [
    "model_ETH = getInputPrice(1, model_eth_balance, model_token_balance)"
   ]
  },
  {
   "cell_type": "code",
   "execution_count": null,
   "metadata": {},
   "outputs": [],
   "source": [
    "model_ETH"
   ]
  },
  {
   "cell_type": "code",
   "execution_count": null,
   "metadata": {},
   "outputs": [],
   "source": [
    "model_ETH / real_ETH"
   ]
  },
  {
   "cell_type": "code",
   "execution_count": null,
   "metadata": {},
   "outputs": [],
   "source": [
    "if model_ETH >= real_ETH * (1 - conv_tolerance):\n",
    "    print('Trade accepted')\n",
    "else:\n",
    "    print('Trade denied')"
   ]
  }
 ],
 "metadata": {
  "kernelspec": {
   "display_name": "Python 3",
   "language": "python",
   "name": "python3"
  },
  "language_info": {
   "codemirror_mode": {
    "name": "ipython",
    "version": 3
   },
   "file_extension": ".py",
   "mimetype": "text/x-python",
   "name": "python",
   "nbconvert_exporter": "python",
   "pygments_lexer": "ipython3",
   "version": "3.6.8"
  }
 },
 "nbformat": 4,
 "nbformat_minor": 4
}
