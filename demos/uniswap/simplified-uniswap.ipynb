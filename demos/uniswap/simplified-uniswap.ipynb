{
 "cells": [
  {
   "cell_type": "code",
   "execution_count": 1,
   "metadata": {},
   "outputs": [],
   "source": [
    "import pandas as pd\n",
    "pd.set_option('max_colwidth', 70)\n",
    "%matplotlib inline"
   ]
  },
  {
   "cell_type": "markdown",
   "metadata": {},
   "source": [
    "# Simplified Uniswap Model\n",
    "## Introduction to Uniswap\n",
    ">Uniswap is an automated market maker for exchanging ERC20 tokens. Anyone can become a liquidity provider, and invest in the liquidity pool of an ERC20 token. This allows other users to trade that token for other tokens at an exchange rate based on their relative availibility. When a token trade is executed, a small fee is paid to the liquidity providers that enabled the transaction.\n",
    "https://uniswap.io/\n",
    "\n",
    "There are basically eight ways (_mechanisms_) in which an agent can interact with an instance of Uniswap:\n",
    "1. `addLiquidity`: deposit ETH and tokens in the liquidity pool; mint UNI tokens - \"shares\" of that Uniswap instance - in exchange;\n",
    "1. `removeLiquidity`: burn UNI tokens; withdraw a proportional amount of ETH and tokens in exchange;\n",
    "1. `ethToTokenInput`: user specifies an exact amount of ETH they send; receives corresponding amount of tokens\n",
    "1. `ethToTokenOutput`: user sends some ETH and specifies an exact amount of tokens they want to buy; Uniswap refunds ETH sent in excess\n",
    "1. `tokenToEthInput`: user specifies an exact amount of tokens they send; receives corresponding amount of ETH\n",
    "1. `tokenToEthOutput`: user specifies an exact amount of ETH they want to buy; Uniswap takes the corresponding amount of tokens from the user account\n",
    "1. `tokenToTokenInput`: user specifies an exact amount of \"token A\" they send; receives corresponding amount of \"token B\" (effectively a `tokenToEthInput` in instance A combined with a `ethToTokenInput` in instance B)\n",
    "1. `tokenToTokenOutput`: user specifies an exact amount of \"token B˜ they want to buy; Uniswap takes the corresponding amount of \"token A\" from the user account (effectively a `ethToTokenOutput` in instance B combined with a `tokenToEthOutput` in instance A)\n",
    "\n",
    "## Limitations and simplifications of this model\n",
    "* When triggering mechanisms, Uniswap users may include conditions they would like to apply to the transaction. For example, they could define a minimum amount of UNI tokens they wish to receive as a result of adding liquidity to the pool; or the maximum number of tokens they are willing to pay for the amount of ETH requested in a `tokenToEthOutput` operation; or a deadline after which the transaction should not be processed. **This simplified model does not account for this kind conditioning.**\n",
    "\n",
    "* The `ethToTokenOutput`, `tokenToEthOutput` mechanisms are not implemented. **All swaps are treated as of the \"input defined\" type.**\n",
    "\n",
    "* The `tokenToToken` mechanism are not implemented, as they are merely a `tokenToEth` in the context of a single Uniswap instance.\n",
    "\n",
    "* **User _behavior_ has not been modeled**. User _actions_ are derived from the history of events of the Uniswap instance being analyzed."
   ]
  },
  {
   "cell_type": "markdown",
   "metadata": {},
   "source": [
    "_____________"
   ]
  },
  {
   "cell_type": "markdown",
   "metadata": {},
   "source": [
    "## MODEL\n",
    "\n",
    "### Initial conditions\n",
    "These are the initial conditions of the [DAI-ETH Uniswap instance](https://etherscan.io/address/0x09cabEC1eAd1c0Ba254B09efb3EE13841712bE14)"
   ]
  },
  {
   "cell_type": "code",
   "execution_count": 2,
   "metadata": {},
   "outputs": [
    {
     "data": {
      "text/plain": [
       "{'DAI_balance': 5900000000000000000000,\n",
       " 'ETH_balance': 30000000000000000000,\n",
       " 'UNI_supply': 30000000000000000000}"
      ]
     },
     "execution_count": 2,
     "metadata": {},
     "output_type": "execute_result"
    }
   ],
   "source": [
    "state = {\n",
    "    'DAI_balance': 5900000000000000000000,\n",
    "    'ETH_balance': 30000000000000000000\n",
    "}\n",
    "state['UNI_supply'] = state['ETH_balance']\n",
    "state"
   ]
  },
  {
   "cell_type": "markdown",
   "metadata": {},
   "source": [
    "### Parameters\n",
    "These are the parameters of Uniswap that represent the fee collected on each swap. Notice that these are hardcoded in the Uniswap smart contracts, but we model them as parameters in order to be able to do A/B testing and parameter sweeping on them in the future."
   ]
  },
  {
   "cell_type": "code",
   "execution_count": 3,
   "metadata": {},
   "outputs": [
    {
     "data": {
      "text/plain": [
       "{'fee_numerator': [997], 'fee_denominator': [1000]}"
      ]
     },
     "execution_count": 3,
     "metadata": {},
     "output_type": "execute_result"
    }
   ],
   "source": [
    "params = {\n",
    "    'fee_numerator': [997],\n",
    "    'fee_denominator': [1000]\n",
    "}\n",
    "params"
   ]
  },
  {
   "cell_type": "markdown",
   "metadata": {},
   "source": [
    "### Mechanisms\n",
    "In order to better mimic the behavior of Uniswap, we need to pay special attention to two things:\n",
    "1. make explicit that we want numbers to be treated as integers by the Python interpreter - there are probably more casts to `int` than needed throughout the code;\n",
    "1. Uniswap was coded in Vyper, where the `/` operator applied to integer variables returns the dividend of the division. In order to achieve the same in Python, we need to use _\"floor division\"_ (`//`) instead of _\"true division\"_ (`/`)."
   ]
  },
  {
   "cell_type": "code",
   "execution_count": 4,
   "metadata": {},
   "outputs": [
    {
     "name": "stdout",
     "output_type": "stream",
     "text": [
      "10000000000000000000 / 5000000000000000001 = 2.0\n",
      "int(10000000000000000000 / 5000000000000000001) = 2\n",
      "10000000000000000000 // 5000000000000000001 = 1\n"
     ]
    }
   ],
   "source": [
    "expr = '10000000000000000000 / 5000000000000000001'\n",
    "print(f'{expr} = {eval(expr)}')\n",
    "expr = 'int(10000000000000000000 / 5000000000000000001)'\n",
    "print(f'{expr} = {eval(expr)}')\n",
    "expr = '10000000000000000000 // 5000000000000000001'\n",
    "print(f'{expr} = {eval(expr)}')"
   ]
  },
  {
   "cell_type": "markdown",
   "metadata": {},
   "source": [
    "### Mechanism - addLiquidity"
   ]
  },
  {
   "cell_type": "code",
   "execution_count": 5,
   "metadata": {},
   "outputs": [],
   "source": [
    "# def addLiquidity(min_liquidity: uint256, max_tokens: uint256, deadline: timestamp) -> uint256:\n",
    "#     assert deadline > block.timestamp and (max_tokens > 0 and msg.value > 0)\n",
    "#     total_liquidity: uint256 = self.totalSupply\n",
    "#     if total_liquidity > 0:\n",
    "#         assert min_liquidity > 0\n",
    "#         eth_reserve: uint256(wei) = self.balance - msg.value\n",
    "#         token_reserve: uint256 = self.token.balanceOf(self)\n",
    "#         token_amount: uint256 = msg.value * token_reserve / eth_reserve + 1\n",
    "#         liquidity_minted: uint256 = msg.value * total_liquidity / eth_reserve\n",
    "#         assert max_tokens >= token_amount and liquidity_minted >= min_liquidity\n",
    "#         self.balances[msg.sender] += liquidity_minted\n",
    "#         self.totalSupply = total_liquidity + liquidity_minted\n",
    "#         assert self.token.transferFrom(msg.sender, self, token_amount)\n",
    "#         log.AddLiquidity(msg.sender, msg.value, token_amount)\n",
    "#         log.Transfer(ZERO_ADDRESS, msg.sender, liquidity_minted)\n",
    "#         return liquidity_minted\n",
    "\n",
    "def addLiquidity_UNI(params, step, history, current_state, input_):\n",
    "    total_liquidity = int(current_state['UNI_supply'])\n",
    "    eth_reserve = int(current_state['ETH_balance'])\n",
    "    liquidity_minted = int(input_['eth_deposit'] * total_liquidity // eth_reserve)\n",
    "    return ('UNI_supply', total_liquidity + liquidity_minted)\n",
    "\n",
    "def addLiquidity_ETH(params, step, history, current_state, input_):\n",
    "    eth_reserve = int(current_state['ETH_balance'])\n",
    "    return ('ETH_balance', eth_reserve + input_['eth_deposit'])\n",
    "\n",
    "def addLiquidity_DAI(params, step, history, current_state, input_):\n",
    "    eth_reserve = int(current_state['ETH_balance'])\n",
    "    token_reserve = int(current_state['DAI_balance'])\n",
    "    if input_['eth_deposit'] == 0:\n",
    "        token_amount = 0\n",
    "    else:\n",
    "        token_amount = int(input_['eth_deposit'] * token_reserve // eth_reserve + 1)\n",
    "    return ('DAI_balance', token_reserve + token_amount)"
   ]
  },
  {
   "cell_type": "markdown",
   "metadata": {},
   "source": [
    "### Mechanism - removeLiquidity"
   ]
  },
  {
   "cell_type": "code",
   "execution_count": 6,
   "metadata": {},
   "outputs": [],
   "source": [
    "# def removeLiquidity(amount: uint256, min_eth: uint256(wei), min_tokens: uint256, deadline: timestamp) -> (uint256(wei), uint256):\n",
    "#     assert (amount > 0 and deadline > block.timestamp) and (min_eth > 0 and min_tokens > 0)\n",
    "#     total_liquidity: uint256 = self.totalSupply\n",
    "#     assert total_liquidity > 0\n",
    "#     token_reserve: uint256 = self.token.balanceOf(self)\n",
    "#     eth_amount: uint256(wei) = amount * self.balance / total_liquidity\n",
    "#     token_amount: uint256 = amount * token_reserve / total_liquidity\n",
    "#     assert eth_amount >= min_eth and token_amount >= min_tokens\n",
    "#     self.balances[msg.sender] -= amount\n",
    "#     self.totalSupply = total_liquidity - amount\n",
    "#     send(msg.sender, eth_amount)\n",
    "#     assert self.token.transfer(msg.sender, token_amount)\n",
    "#     log.RemoveLiquidity(msg.sender, eth_amount, token_amount)\n",
    "#     log.Transfer(msg.sender, ZERO_ADDRESS, amount)\n",
    "#     return eth_amount, token_amount\n",
    "\n",
    "def removeLiquidity_UNI(params, step, history, current_state, input_):\n",
    "    total_liquidity = int(current_state['UNI_supply'])\n",
    "    amount = int(input_['UNI_burn'])\n",
    "    return ('UNI_supply', int(total_liquidity - amount))\n",
    "\n",
    "def removeLiquidity_ETH(params, step, history, current_state, input_):\n",
    "    total_liquidity = int(current_state['UNI_supply'])\n",
    "    eth_reserve = int(current_state['ETH_balance'])\n",
    "    amount = int(input_['UNI_burn'])\n",
    "    eth_amount = int(amount * eth_reserve // total_liquidity)\n",
    "    return ('ETH_balance', int(eth_reserve - eth_amount))\n",
    "\n",
    "def removeLiquidity_DAI(params, step, history, current_state, input_):\n",
    "    total_liquidity = int(current_state['UNI_supply'])\n",
    "    token_reserve = int(current_state['DAI_balance'])\n",
    "    amount = int(input_['UNI_burn'])\n",
    "    token_amount = int(amount * token_reserve // total_liquidity)\n",
    "    return ('DAI_balance', int(token_reserve - token_amount))"
   ]
  },
  {
   "cell_type": "markdown",
   "metadata": {},
   "source": [
    "### Auxiliary function - getInputPrice"
   ]
  },
  {
   "cell_type": "code",
   "execution_count": 7,
   "metadata": {},
   "outputs": [],
   "source": [
    "# @dev Pricing function for converting between ETH and Tokens.\n",
    "# @param input_amount Amount of ETH or Tokens being sold.\n",
    "# @param input_reserve Amount of ETH or Tokens (input type) in exchange reserves.\n",
    "# @param output_reserve Amount of ETH or Tokens (output type) in exchange reserves.\n",
    "# @return Amount of ETH or Tokens bought.\n",
    "def getInputPrice(input_amount, input_reserve, output_reserve, params):\n",
    "    fee_numerator = params['fee_numerator']\n",
    "    fee_denominator = params['fee_denominator']\n",
    "    input_amount_with_fee = input_amount * fee_numerator\n",
    "    numerator = input_amount_with_fee * output_reserve\n",
    "    denominator = (input_reserve * fee_denominator) + input_amount_with_fee\n",
    "    return int(numerator // denominator)"
   ]
  },
  {
   "cell_type": "markdown",
   "metadata": {},
   "source": [
    "### Mechanism - ethToToken"
   ]
  },
  {
   "cell_type": "code",
   "execution_count": 8,
   "metadata": {},
   "outputs": [],
   "source": [
    "# @private\n",
    "# def ethToTokenInput(eth_sold: uint256(wei), min_tokens: uint256, deadline: timestamp, buyer: address, recipient: address) -> uint256:\n",
    "#     assert deadline >= block.timestamp and (eth_sold > 0 and min_tokens > 0)\n",
    "#     token_reserve: uint256 = self.token.balanceOf(self)\n",
    "#     tokens_bought: uint256 = self.getInputPrice(as_unitless_number(eth_sold), as_unitless_number(self.balance - eth_sold), token_reserve)\n",
    "#     assert tokens_bought >= min_tokens\n",
    "#     assert self.token.transfer(recipient, tokens_bought)\n",
    "#     log.TokenPurchase(buyer, eth_sold, tokens_bought)\n",
    "#     return tokens_bought\n",
    "\n",
    "def ethToToken_ETH(params, step, history, current_state, input_):\n",
    "    eth_sold = int(input_['eth_sold']) #amount of ETH being sold by the user\n",
    "    eth_reserve = int(current_state['ETH_balance'])\n",
    "    return ('ETH_balance', eth_reserve + eth_sold)\n",
    "\n",
    "def ethToToken_DAI(params, step, history, current_state, input_):\n",
    "    eth_sold = int(input_['eth_sold']) #amount of ETH being sold by the user\n",
    "    eth_reserve = int(current_state['ETH_balance'])\n",
    "    token_reserve = int(current_state['DAI_balance'])\n",
    "    if eth_sold == 0:\n",
    "        return ('DAI_balance', token_reserve)\n",
    "    else:\n",
    "        tokens_bought = int(getInputPrice(eth_sold, eth_reserve, token_reserve, params))\n",
    "        return ('DAI_balance', token_reserve - tokens_bought)"
   ]
  },
  {
   "cell_type": "markdown",
   "metadata": {},
   "source": [
    "### Mechanism - tokenToEth"
   ]
  },
  {
   "cell_type": "code",
   "execution_count": 9,
   "metadata": {},
   "outputs": [],
   "source": [
    "# @private\n",
    "# def tokenToEthInput(tokens_sold: uint256, min_eth: uint256(wei), deadline: timestamp, buyer: address, recipient: address) -> uint256(wei):\n",
    "#     assert deadline >= block.timestamp and (tokens_sold > 0 and min_eth > 0)\n",
    "#     token_reserve: uint256 = self.token.balanceOf(self)\n",
    "#     eth_bought: uint256 = self.getInputPrice(tokens_sold, token_reserve, as_unitless_number(self.balance))\n",
    "#     wei_bought: uint256(wei) = as_wei_value(eth_bought, 'wei')\n",
    "#     assert wei_bought >= min_eth\n",
    "#     send(recipient, wei_bought)\n",
    "#     assert self.token.transferFrom(buyer, self, tokens_sold)\n",
    "#     log.EthPurchase(buyer, tokens_sold, wei_bought)\n",
    "#     return wei_bought\n",
    "\n",
    "def tokenToEth_ETH(params, step, history, current_state, input_):\n",
    "    tokens_sold = int(input_['tokens_sold']) #amount of tokens being sold by the user\n",
    "    eth_reserve = int(current_state['ETH_balance'])\n",
    "    if tokens_sold == 0:\n",
    "        return ('ETH_balance', eth_reserve)\n",
    "    else:\n",
    "        token_reserve = int(current_state['DAI_balance'])\n",
    "        eth_bought = int(getInputPrice(tokens_sold, token_reserve, eth_reserve, params))\n",
    "        return ('ETH_balance', eth_reserve - eth_bought)\n",
    "    \n",
    "def tokenToEth_DAI(params, step, history, current_state, input_):\n",
    "    tokens_sold = int(input_['tokens_sold']) #amount of tokens being sold by the user\n",
    "    token_reserve = int(current_state['DAI_balance'])\n",
    "    return ('DAI_balance', token_reserve + tokens_sold)"
   ]
  },
  {
   "cell_type": "markdown",
   "metadata": {},
   "source": [
    "### Events dataset\n",
    "The events dataset was generated using [Kaggle/BigQuery](https://www.kaggle.com/markusbkoch/uniswap-ethdai-exchange/), as is available for download [here](https://www.kaggleusercontent.com/kf/21051736/eyJhbGciOiJkaXIiLCJlbmMiOiJBMTI4Q0JDLUhTMjU2In0..HdZwILo7rBzA0baBSYIogA.5sWqgw2JU7MhBWp6MFRE2kpUJPQyAsOmljPX3jRGeEJMY5bYdZNjeW6XsuOkVDe8v4wcL5Efa3EpkrrC7bu-RLKqEEHazP2L5IQHGoYhschgBumjaoR2VPGM4xL40abyFTesKlVHGef2EIIlwpvHX0DcNrMQI-MpyVEjMSHx_oY.kBNFGv1rap1qLe-tfqQA6A/uniswap_events.pickle)."
   ]
  },
  {
   "cell_type": "code",
   "execution_count": 10,
   "metadata": {},
   "outputs": [
    {
     "data": {
      "text/html": [
       "<div>\n",
       "<style scoped>\n",
       "    .dataframe tbody tr th:only-of-type {\n",
       "        vertical-align: middle;\n",
       "    }\n",
       "\n",
       "    .dataframe tbody tr th {\n",
       "        vertical-align: top;\n",
       "    }\n",
       "\n",
       "    .dataframe thead th {\n",
       "        text-align: right;\n",
       "    }\n",
       "</style>\n",
       "<table border=\"1\" class=\"dataframe\">\n",
       "  <thead>\n",
       "    <tr style=\"text-align: right;\">\n",
       "      <th></th>\n",
       "      <th>transactionHash</th>\n",
       "      <th>transaction_index</th>\n",
       "      <th>transaction_sender</th>\n",
       "      <th>address</th>\n",
       "      <th>data</th>\n",
       "      <th>topics</th>\n",
       "      <th>block_timestamp</th>\n",
       "      <th>blockNumber_dec</th>\n",
       "      <th>contract</th>\n",
       "      <th>event</th>\n",
       "      <th>contract_event</th>\n",
       "      <th>block_group</th>\n",
       "      <th>agent</th>\n",
       "      <th>eth_delta</th>\n",
       "      <th>token_delta</th>\n",
       "      <th>uni_delta</th>\n",
       "      <th>eth_balance</th>\n",
       "      <th>token_balance</th>\n",
       "      <th>UNI_supply</th>\n",
       "      <th>invariant</th>\n",
       "    </tr>\n",
       "  </thead>\n",
       "  <tbody>\n",
       "    <tr>\n",
       "      <th>0</th>\n",
       "      <td>0xbd773ccc33c831378f2aa2b7d4a9ae8a20ed9112ea9acb86ce96aa674c0cb5f9</td>\n",
       "      <td>150</td>\n",
       "      <td>0xf369af914dbed0ad7afdddebc631ee0fda1b4891</td>\n",
       "      <td>0x09cabec1ead1c0ba254b09efb3ee13841712be14</td>\n",
       "      <td>0x</td>\n",
       "      <td>[0x06239653922ac7bea6aa2b19dc486b9361821d37712eb796adfd38d81de278c...</td>\n",
       "      <td>2018-11-02 10:27:36+00:00</td>\n",
       "      <td>6629139</td>\n",
       "      <td>DAI</td>\n",
       "      <td>AddLiquidity</td>\n",
       "      <td>DAIAddLiquidity</td>\n",
       "      <td>662</td>\n",
       "      <td>0xf369af914dbed0ad7afdddebc631ee0fda1b4891</td>\n",
       "      <td>30000000000000000000</td>\n",
       "      <td>5900000000000000000000</td>\n",
       "      <td>0</td>\n",
       "      <td>30000000000000000000</td>\n",
       "      <td>5900000000000000000000</td>\n",
       "      <td>0</td>\n",
       "      <td>177000000000000000000000000000000000000000</td>\n",
       "    </tr>\n",
       "    <tr>\n",
       "      <th>1</th>\n",
       "      <td>0xbd773ccc33c831378f2aa2b7d4a9ae8a20ed9112ea9acb86ce96aa674c0cb5f9</td>\n",
       "      <td>150</td>\n",
       "      <td>0xf369af914dbed0ad7afdddebc631ee0fda1b4891</td>\n",
       "      <td>0x09cabec1ead1c0ba254b09efb3ee13841712be14</td>\n",
       "      <td>0x000000000000000000000000000000000000000000000001a055690d9db80000</td>\n",
       "      <td>[0xddf252ad1be2c89b69c2b068fc378daa952ba7f163c4a11628f55a4df523b3e...</td>\n",
       "      <td>2018-11-02 10:27:36+00:00</td>\n",
       "      <td>6629139</td>\n",
       "      <td>DAI</td>\n",
       "      <td>Transfer</td>\n",
       "      <td>DAITransfer</td>\n",
       "      <td>662</td>\n",
       "      <td>0x0000000000000000000000000000000000000000</td>\n",
       "      <td>0</td>\n",
       "      <td>0</td>\n",
       "      <td>30000000000000000000</td>\n",
       "      <td>30000000000000000000</td>\n",
       "      <td>5900000000000000000000</td>\n",
       "      <td>30000000000000000000</td>\n",
       "      <td>177000000000000000000000000000000000000000</td>\n",
       "    </tr>\n",
       "    <tr>\n",
       "      <th>2</th>\n",
       "      <td>0xd53f01fc0cabbf4083da93a023ddb81de91320027077849ac982f7bc04b49279</td>\n",
       "      <td>97</td>\n",
       "      <td>0xf369af914dbed0ad7afdddebc631ee0fda1b4891</td>\n",
       "      <td>0x09cabec1ead1c0ba254b09efb3ee13841712be14</td>\n",
       "      <td>0x</td>\n",
       "      <td>[0x7f4091b46c33e918a0f3aa42307641d17bb67029427a5369e54b35398423870...</td>\n",
       "      <td>2018-11-02 10:33:56+00:00</td>\n",
       "      <td>6629171</td>\n",
       "      <td>DAI</td>\n",
       "      <td>EthPurchase</td>\n",
       "      <td>DAIEthPurchase</td>\n",
       "      <td>662</td>\n",
       "      <td>0xf369af914dbed0ad7afdddebc631ee0fda1b4891</td>\n",
       "      <td>-25326059253325791</td>\n",
       "      <td>5000000000000000000</td>\n",
       "      <td>0</td>\n",
       "      <td>29974673940746674209</td>\n",
       "      <td>5905000000000000000000</td>\n",
       "      <td>30000000000000000000</td>\n",
       "      <td>177000449620109111204145000000000000000000</td>\n",
       "    </tr>\n",
       "    <tr>\n",
       "      <th>3</th>\n",
       "      <td>0x53172898dbe437c784f7e4ac757087b28d1b06aa6b72b81d4a6bb2bead50c93e</td>\n",
       "      <td>53</td>\n",
       "      <td>0xf369af914dbed0ad7afdddebc631ee0fda1b4891</td>\n",
       "      <td>0x09cabec1ead1c0ba254b09efb3ee13841712be14</td>\n",
       "      <td>0x</td>\n",
       "      <td>[0x7f4091b46c33e918a0f3aa42307641d17bb67029427a5369e54b35398423870...</td>\n",
       "      <td>2018-11-02 10:35:47+00:00</td>\n",
       "      <td>6629177</td>\n",
       "      <td>DAI</td>\n",
       "      <td>EthPurchase</td>\n",
       "      <td>DAIEthPurchase</td>\n",
       "      <td>662</td>\n",
       "      <td>0xf369af914dbed0ad7afdddebc631ee0fda1b4891</td>\n",
       "      <td>-10118429075406013</td>\n",
       "      <td>2000000000000000000</td>\n",
       "      <td>0</td>\n",
       "      <td>29964555511671268196</td>\n",
       "      <td>5907000000000000000000</td>\n",
       "      <td>30000000000000000000</td>\n",
       "      <td>177000629407442181233772000000000000000000</td>\n",
       "    </tr>\n",
       "    <tr>\n",
       "      <th>4</th>\n",
       "      <td>0x6cef57fd37d7a2602c1236ff080c61c37e10980c7e3bd66de6f4e0ed52f16011</td>\n",
       "      <td>24</td>\n",
       "      <td>0x11e4857bb9993a50c685a79afad4e6f65d518dda</td>\n",
       "      <td>0x09cabec1ead1c0ba254b09efb3ee13841712be14</td>\n",
       "      <td>0x</td>\n",
       "      <td>[0xcd60aa75dea3072fbc07ae6d7d856b5dc5f4eee88854f5b4abf7b680ef8bc50...</td>\n",
       "      <td>2018-11-02 10:38:18+00:00</td>\n",
       "      <td>6629190</td>\n",
       "      <td>DAI</td>\n",
       "      <td>TokenPurchase</td>\n",
       "      <td>DAITokenPurchase</td>\n",
       "      <td>662</td>\n",
       "      <td>0x11e4857bb9993a50c685a79afad4e6f65d518dda</td>\n",
       "      <td>10000000000000000</td>\n",
       "      <td>-1964761376358359468</td>\n",
       "      <td>0</td>\n",
       "      <td>29974555511671268196</td>\n",
       "      <td>5905035238623641640532</td>\n",
       "      <td>30000000000000000000</td>\n",
       "      <td>177000806558499339943044863018842396120272</td>\n",
       "    </tr>\n",
       "    <tr>\n",
       "      <th>...</th>\n",
       "      <td>...</td>\n",
       "      <td>...</td>\n",
       "      <td>...</td>\n",
       "      <td>...</td>\n",
       "      <td>...</td>\n",
       "      <td>...</td>\n",
       "      <td>...</td>\n",
       "      <td>...</td>\n",
       "      <td>...</td>\n",
       "      <td>...</td>\n",
       "      <td>...</td>\n",
       "      <td>...</td>\n",
       "      <td>...</td>\n",
       "      <td>...</td>\n",
       "      <td>...</td>\n",
       "      <td>...</td>\n",
       "      <td>...</td>\n",
       "      <td>...</td>\n",
       "      <td>...</td>\n",
       "      <td>...</td>\n",
       "    </tr>\n",
       "    <tr>\n",
       "      <th>101481</th>\n",
       "      <td>0xe9286e3e23957063046d6299eca0a5c724a034a0566a78754f5f23613a4b0312</td>\n",
       "      <td>40</td>\n",
       "      <td>0x4b8673ca1b5c9f08cfffce527fec9173c35e27f3</td>\n",
       "      <td>0x09cabec1ead1c0ba254b09efb3ee13841712be14</td>\n",
       "      <td>0x</td>\n",
       "      <td>[0x7f4091b46c33e918a0f3aa42307641d17bb67029427a5369e54b35398423870...</td>\n",
       "      <td>2019-09-23 23:37:04+00:00</td>\n",
       "      <td>8608422</td>\n",
       "      <td>DAI</td>\n",
       "      <td>EthPurchase</td>\n",
       "      <td>DAIEthPurchase</td>\n",
       "      <td>860</td>\n",
       "      <td>0x4b8673ca1b5c9f08cfffce527fec9173c35e27f3</td>\n",
       "      <td>-198016436809685891</td>\n",
       "      <td>40000000000000000000</td>\n",
       "      <td>0</td>\n",
       "      <td>6302047541877387309207</td>\n",
       "      <td>1269256071848791636644352</td>\n",
       "      <td>5320135262833503868378</td>\n",
       "      <td>7998912107607625827109961968988225660114148864</td>\n",
       "    </tr>\n",
       "    <tr>\n",
       "      <th>101482</th>\n",
       "      <td>0x3f5265badf1846d559337e655faf03e643f36599aded1ea233b5eb6928219804</td>\n",
       "      <td>83</td>\n",
       "      <td>0x4b8673ca1b5c9f08cfffce527fec9173c35e27f3</td>\n",
       "      <td>0x09cabec1ead1c0ba254b09efb3ee13841712be14</td>\n",
       "      <td>0x</td>\n",
       "      <td>[0x7f4091b46c33e918a0f3aa42307641d17bb67029427a5369e54b35398423870...</td>\n",
       "      <td>2019-09-23 23:45:05+00:00</td>\n",
       "      <td>8608464</td>\n",
       "      <td>DAI</td>\n",
       "      <td>EthPurchase</td>\n",
       "      <td>DAIEthPurchase</td>\n",
       "      <td>860</td>\n",
       "      <td>0x4b8673ca1b5c9f08cfffce527fec9173c35e27f3</td>\n",
       "      <td>-123753942543874669</td>\n",
       "      <td>25000000000000000000</td>\n",
       "      <td>0</td>\n",
       "      <td>6301923787934843434538</td>\n",
       "      <td>1269281071848791636644352</td>\n",
       "      <td>5320135262833503868378</td>\n",
       "      <td>7998912580259335158776901047006760160899429376</td>\n",
       "    </tr>\n",
       "    <tr>\n",
       "      <th>101483</th>\n",
       "      <td>0x6f1ce2ac600b615a9a99729100cafb9e8c6a5b592b5c26de8be8a7998c4780ca</td>\n",
       "      <td>108</td>\n",
       "      <td>0x23983ea2123d40eb5655dfff3f3c917c78f214f6</td>\n",
       "      <td>0x09cabec1ead1c0ba254b09efb3ee13841712be14</td>\n",
       "      <td>0x</td>\n",
       "      <td>[0xcd60aa75dea3072fbc07ae6d7d856b5dc5f4eee88854f5b4abf7b680ef8bc50...</td>\n",
       "      <td>2019-09-23 23:52:48+00:00</td>\n",
       "      <td>8608502</td>\n",
       "      <td>DAI</td>\n",
       "      <td>TokenPurchase</td>\n",
       "      <td>DAITokenPurchase</td>\n",
       "      <td>860</td>\n",
       "      <td>0x23983ea2123d40eb5655dfff3f3c917c78f214f6</td>\n",
       "      <td>3761852803869270000</td>\n",
       "      <td>-754958783191617305007</td>\n",
       "      <td>0</td>\n",
       "      <td>6305685640738712704538</td>\n",
       "      <td>1268526113065600019339345</td>\n",
       "      <td>5320135262833503868378</td>\n",
       "      <td>7998926896059846775691596222003712648943447610</td>\n",
       "    </tr>\n",
       "    <tr>\n",
       "      <th>101484</th>\n",
       "      <td>0xf7030ccc0e66e37b52b924a08dbd3a112641afa75d3c9f5206d4d1ac7d25af3b</td>\n",
       "      <td>116</td>\n",
       "      <td>0x8a333c59eab0ad608f857a02c3702b910e24493b</td>\n",
       "      <td>0x09cabec1ead1c0ba254b09efb3ee13841712be14</td>\n",
       "      <td>0x</td>\n",
       "      <td>[0xcd60aa75dea3072fbc07ae6d7d856b5dc5f4eee88854f5b4abf7b680ef8bc50...</td>\n",
       "      <td>2019-09-23 23:56:22+00:00</td>\n",
       "      <td>8608513</td>\n",
       "      <td>DAI</td>\n",
       "      <td>TokenPurchase</td>\n",
       "      <td>DAITokenPurchase</td>\n",
       "      <td>860</td>\n",
       "      <td>0xa2881a90bf33f03e7a3f803765cd2ed5c8928dfb</td>\n",
       "      <td>22537050091283742</td>\n",
       "      <td>-4519736539681249391</td>\n",
       "      <td>0</td>\n",
       "      <td>6305708177788803988280</td>\n",
       "      <td>1268521593329060338089954</td>\n",
       "      <td>5320135262833503868378</td>\n",
       "      <td>7998926984756739317657470536463978912601739120</td>\n",
       "    </tr>\n",
       "    <tr>\n",
       "      <th>101485</th>\n",
       "      <td>0xf7030ccc0e66e37b52b924a08dbd3a112641afa75d3c9f5206d4d1ac7d25af3b</td>\n",
       "      <td>116</td>\n",
       "      <td>0x8a333c59eab0ad608f857a02c3702b910e24493b</td>\n",
       "      <td>0x09cabec1ead1c0ba254b09efb3ee13841712be14</td>\n",
       "      <td>0x</td>\n",
       "      <td>[0xcd60aa75dea3072fbc07ae6d7d856b5dc5f4eee88854f5b4abf7b680ef8bc50...</td>\n",
       "      <td>2019-09-23 23:56:22+00:00</td>\n",
       "      <td>8608513</td>\n",
       "      <td>DAI</td>\n",
       "      <td>TokenPurchase</td>\n",
       "      <td>DAITokenPurchase</td>\n",
       "      <td>860</td>\n",
       "      <td>0xa2881a90bf33f03e7a3f803765cd2ed5c8928dfb</td>\n",
       "      <td>324837579441249778</td>\n",
       "      <td>-65148772191674267296</td>\n",
       "      <td>0</td>\n",
       "      <td>6306033015368245238058</td>\n",
       "      <td>1268456444556868663822658</td>\n",
       "      <td>5320135262833503868378</td>\n",
       "      <td>7998928217932233884476665832482285067504318164</td>\n",
       "    </tr>\n",
       "  </tbody>\n",
       "</table>\n",
       "<p>101486 rows × 20 columns</p>\n",
       "</div>"
      ],
      "text/plain": [
       "                                                           transactionHash  \\\n",
       "0       0xbd773ccc33c831378f2aa2b7d4a9ae8a20ed9112ea9acb86ce96aa674c0cb5f9   \n",
       "1       0xbd773ccc33c831378f2aa2b7d4a9ae8a20ed9112ea9acb86ce96aa674c0cb5f9   \n",
       "2       0xd53f01fc0cabbf4083da93a023ddb81de91320027077849ac982f7bc04b49279   \n",
       "3       0x53172898dbe437c784f7e4ac757087b28d1b06aa6b72b81d4a6bb2bead50c93e   \n",
       "4       0x6cef57fd37d7a2602c1236ff080c61c37e10980c7e3bd66de6f4e0ed52f16011   \n",
       "...                                                                    ...   \n",
       "101481  0xe9286e3e23957063046d6299eca0a5c724a034a0566a78754f5f23613a4b0312   \n",
       "101482  0x3f5265badf1846d559337e655faf03e643f36599aded1ea233b5eb6928219804   \n",
       "101483  0x6f1ce2ac600b615a9a99729100cafb9e8c6a5b592b5c26de8be8a7998c4780ca   \n",
       "101484  0xf7030ccc0e66e37b52b924a08dbd3a112641afa75d3c9f5206d4d1ac7d25af3b   \n",
       "101485  0xf7030ccc0e66e37b52b924a08dbd3a112641afa75d3c9f5206d4d1ac7d25af3b   \n",
       "\n",
       "        transaction_index                          transaction_sender  \\\n",
       "0                     150  0xf369af914dbed0ad7afdddebc631ee0fda1b4891   \n",
       "1                     150  0xf369af914dbed0ad7afdddebc631ee0fda1b4891   \n",
       "2                      97  0xf369af914dbed0ad7afdddebc631ee0fda1b4891   \n",
       "3                      53  0xf369af914dbed0ad7afdddebc631ee0fda1b4891   \n",
       "4                      24  0x11e4857bb9993a50c685a79afad4e6f65d518dda   \n",
       "...                   ...                                         ...   \n",
       "101481                 40  0x4b8673ca1b5c9f08cfffce527fec9173c35e27f3   \n",
       "101482                 83  0x4b8673ca1b5c9f08cfffce527fec9173c35e27f3   \n",
       "101483                108  0x23983ea2123d40eb5655dfff3f3c917c78f214f6   \n",
       "101484                116  0x8a333c59eab0ad608f857a02c3702b910e24493b   \n",
       "101485                116  0x8a333c59eab0ad608f857a02c3702b910e24493b   \n",
       "\n",
       "                                           address  \\\n",
       "0       0x09cabec1ead1c0ba254b09efb3ee13841712be14   \n",
       "1       0x09cabec1ead1c0ba254b09efb3ee13841712be14   \n",
       "2       0x09cabec1ead1c0ba254b09efb3ee13841712be14   \n",
       "3       0x09cabec1ead1c0ba254b09efb3ee13841712be14   \n",
       "4       0x09cabec1ead1c0ba254b09efb3ee13841712be14   \n",
       "...                                            ...   \n",
       "101481  0x09cabec1ead1c0ba254b09efb3ee13841712be14   \n",
       "101482  0x09cabec1ead1c0ba254b09efb3ee13841712be14   \n",
       "101483  0x09cabec1ead1c0ba254b09efb3ee13841712be14   \n",
       "101484  0x09cabec1ead1c0ba254b09efb3ee13841712be14   \n",
       "101485  0x09cabec1ead1c0ba254b09efb3ee13841712be14   \n",
       "\n",
       "                                                                      data  \\\n",
       "0                                                                       0x   \n",
       "1       0x000000000000000000000000000000000000000000000001a055690d9db80000   \n",
       "2                                                                       0x   \n",
       "3                                                                       0x   \n",
       "4                                                                       0x   \n",
       "...                                                                    ...   \n",
       "101481                                                                  0x   \n",
       "101482                                                                  0x   \n",
       "101483                                                                  0x   \n",
       "101484                                                                  0x   \n",
       "101485                                                                  0x   \n",
       "\n",
       "                                                                       topics  \\\n",
       "0       [0x06239653922ac7bea6aa2b19dc486b9361821d37712eb796adfd38d81de278c...   \n",
       "1       [0xddf252ad1be2c89b69c2b068fc378daa952ba7f163c4a11628f55a4df523b3e...   \n",
       "2       [0x7f4091b46c33e918a0f3aa42307641d17bb67029427a5369e54b35398423870...   \n",
       "3       [0x7f4091b46c33e918a0f3aa42307641d17bb67029427a5369e54b35398423870...   \n",
       "4       [0xcd60aa75dea3072fbc07ae6d7d856b5dc5f4eee88854f5b4abf7b680ef8bc50...   \n",
       "...                                                                       ...   \n",
       "101481  [0x7f4091b46c33e918a0f3aa42307641d17bb67029427a5369e54b35398423870...   \n",
       "101482  [0x7f4091b46c33e918a0f3aa42307641d17bb67029427a5369e54b35398423870...   \n",
       "101483  [0xcd60aa75dea3072fbc07ae6d7d856b5dc5f4eee88854f5b4abf7b680ef8bc50...   \n",
       "101484  [0xcd60aa75dea3072fbc07ae6d7d856b5dc5f4eee88854f5b4abf7b680ef8bc50...   \n",
       "101485  [0xcd60aa75dea3072fbc07ae6d7d856b5dc5f4eee88854f5b4abf7b680ef8bc50...   \n",
       "\n",
       "                 block_timestamp  blockNumber_dec contract          event  \\\n",
       "0      2018-11-02 10:27:36+00:00          6629139      DAI   AddLiquidity   \n",
       "1      2018-11-02 10:27:36+00:00          6629139      DAI       Transfer   \n",
       "2      2018-11-02 10:33:56+00:00          6629171      DAI    EthPurchase   \n",
       "3      2018-11-02 10:35:47+00:00          6629177      DAI    EthPurchase   \n",
       "4      2018-11-02 10:38:18+00:00          6629190      DAI  TokenPurchase   \n",
       "...                          ...              ...      ...            ...   \n",
       "101481 2019-09-23 23:37:04+00:00          8608422      DAI    EthPurchase   \n",
       "101482 2019-09-23 23:45:05+00:00          8608464      DAI    EthPurchase   \n",
       "101483 2019-09-23 23:52:48+00:00          8608502      DAI  TokenPurchase   \n",
       "101484 2019-09-23 23:56:22+00:00          8608513      DAI  TokenPurchase   \n",
       "101485 2019-09-23 23:56:22+00:00          8608513      DAI  TokenPurchase   \n",
       "\n",
       "          contract_event  block_group  \\\n",
       "0        DAIAddLiquidity          662   \n",
       "1            DAITransfer          662   \n",
       "2         DAIEthPurchase          662   \n",
       "3         DAIEthPurchase          662   \n",
       "4       DAITokenPurchase          662   \n",
       "...                  ...          ...   \n",
       "101481    DAIEthPurchase          860   \n",
       "101482    DAIEthPurchase          860   \n",
       "101483  DAITokenPurchase          860   \n",
       "101484  DAITokenPurchase          860   \n",
       "101485  DAITokenPurchase          860   \n",
       "\n",
       "                                             agent             eth_delta  \\\n",
       "0       0xf369af914dbed0ad7afdddebc631ee0fda1b4891  30000000000000000000   \n",
       "1       0x0000000000000000000000000000000000000000                     0   \n",
       "2       0xf369af914dbed0ad7afdddebc631ee0fda1b4891    -25326059253325791   \n",
       "3       0xf369af914dbed0ad7afdddebc631ee0fda1b4891    -10118429075406013   \n",
       "4       0x11e4857bb9993a50c685a79afad4e6f65d518dda     10000000000000000   \n",
       "...                                            ...                   ...   \n",
       "101481  0x4b8673ca1b5c9f08cfffce527fec9173c35e27f3   -198016436809685891   \n",
       "101482  0x4b8673ca1b5c9f08cfffce527fec9173c35e27f3   -123753942543874669   \n",
       "101483  0x23983ea2123d40eb5655dfff3f3c917c78f214f6   3761852803869270000   \n",
       "101484  0xa2881a90bf33f03e7a3f803765cd2ed5c8928dfb     22537050091283742   \n",
       "101485  0xa2881a90bf33f03e7a3f803765cd2ed5c8928dfb    324837579441249778   \n",
       "\n",
       "                   token_delta             uni_delta             eth_balance  \\\n",
       "0       5900000000000000000000                     0    30000000000000000000   \n",
       "1                            0  30000000000000000000    30000000000000000000   \n",
       "2          5000000000000000000                     0    29974673940746674209   \n",
       "3          2000000000000000000                     0    29964555511671268196   \n",
       "4         -1964761376358359468                     0    29974555511671268196   \n",
       "...                        ...                   ...                     ...   \n",
       "101481    40000000000000000000                     0  6302047541877387309207   \n",
       "101482    25000000000000000000                     0  6301923787934843434538   \n",
       "101483  -754958783191617305007                     0  6305685640738712704538   \n",
       "101484    -4519736539681249391                     0  6305708177788803988280   \n",
       "101485   -65148772191674267296                     0  6306033015368245238058   \n",
       "\n",
       "                    token_balance              UNI_supply  \\\n",
       "0          5900000000000000000000                       0   \n",
       "1          5900000000000000000000    30000000000000000000   \n",
       "2          5905000000000000000000    30000000000000000000   \n",
       "3          5907000000000000000000    30000000000000000000   \n",
       "4          5905035238623641640532    30000000000000000000   \n",
       "...                           ...                     ...   \n",
       "101481  1269256071848791636644352  5320135262833503868378   \n",
       "101482  1269281071848791636644352  5320135262833503868378   \n",
       "101483  1268526113065600019339345  5320135262833503868378   \n",
       "101484  1268521593329060338089954  5320135262833503868378   \n",
       "101485  1268456444556868663822658  5320135262833503868378   \n",
       "\n",
       "                                             invariant  \n",
       "0           177000000000000000000000000000000000000000  \n",
       "1           177000000000000000000000000000000000000000  \n",
       "2           177000449620109111204145000000000000000000  \n",
       "3           177000629407442181233772000000000000000000  \n",
       "4           177000806558499339943044863018842396120272  \n",
       "...                                                ...  \n",
       "101481  7998912107607625827109961968988225660114148864  \n",
       "101482  7998912580259335158776901047006760160899429376  \n",
       "101483  7998926896059846775691596222003712648943447610  \n",
       "101484  7998926984756739317657470536463978912601739120  \n",
       "101485  7998928217932233884476665832482285067504318164  \n",
       "\n",
       "[101486 rows x 20 columns]"
      ]
     },
     "execution_count": 10,
     "metadata": {},
     "output_type": "execute_result"
    }
   ],
   "source": [
    "uniswap_events = pd.read_pickle('uniswap_events.pickle')\n",
    "uniswap_events"
   ]
  },
  {
   "cell_type": "markdown",
   "metadata": {},
   "source": [
    "### Policy function - user action\n",
    "In this simplified model of Uniswap, we have not modeled user behavior. Instead, we map events to actions."
   ]
  },
  {
   "cell_type": "code",
   "execution_count": 11,
   "metadata": {},
   "outputs": [],
   "source": [
    "def actionDecoder(params, step, history, current_state):\n",
    "    \n",
    "    prev_timestep = current_state['timestep']\n",
    "    if step > 1:\n",
    "        prev_timestep -= 1\n",
    "        \n",
    "    #skip the first two events, as they are already accounted for in the initial conditions of the system\n",
    "    data_counter = prev_timestep + 2 \n",
    "    \n",
    "    action = {\n",
    "        'eth_sold': 0,\n",
    "        'tokens_sold': 0,\n",
    "        'eth_deposit': 0,\n",
    "        'UNI_burn': 0,        \n",
    "    }\n",
    "    \n",
    "    event = uniswap_events['event'][data_counter]\n",
    "    \n",
    "    action['action_id'] = event\n",
    "    \n",
    "    if event == 'TokenPurchase':\n",
    "        action['eth_sold'] = uniswap_events['eth_delta'][data_counter]\n",
    "    elif event == 'EthPurchase':\n",
    "        action['tokens_sold'] = uniswap_events['token_delta'][data_counter]\n",
    "    elif event == 'AddLiquidity':\n",
    "        action['eth_deposit'] = uniswap_events['eth_delta'][data_counter]\n",
    "    elif event == 'Transfer':\n",
    "        UNI_delta = uniswap_events['uni_delta'][data_counter]\n",
    "        if UNI_delta < 0:\n",
    "            action['UNI_burn'] = -UNI_delta\n",
    "\n",
    "    return action"
   ]
  },
  {
   "cell_type": "markdown",
   "metadata": {},
   "source": [
    "### Partial state update blocks\n",
    "Now that we have mapped the events in the history dataset to user action in our model, we need a \"hub\" state update function for each one of the state variables. The hub checks the action being performed and calls the corresponding state update function of the mechanism"
   ]
  },
  {
   "cell_type": "code",
   "execution_count": 12,
   "metadata": {},
   "outputs": [],
   "source": [
    "def mechanismHub_DAI(params, step, history, current_state, input_):\n",
    "    action = input_['action_id']\n",
    "    if action == 'TokenPurchase':\n",
    "        return ethToToken_DAI(params, step, history, current_state, input_)\n",
    "    elif action == 'EthPurchase':\n",
    "        return tokenToEth_DAI(params, step, history, current_state, input_)\n",
    "    elif action == 'AddLiquidity':\n",
    "        return addLiquidity_DAI(params, step, history, current_state, input_)\n",
    "    elif action == 'Transfer':\n",
    "        return removeLiquidity_DAI(params, step, history, current_state, input_)\n",
    "    return('DAI_balance', current_state['DAI_balance'])\n",
    "    \n",
    "def mechanismHub_ETH(params, step, history, current_state, input_):\n",
    "    action = input_['action_id']\n",
    "    if action == 'TokenPurchase':\n",
    "        return ethToToken_ETH(params, step, history, current_state, input_)\n",
    "    elif action == 'EthPurchase':\n",
    "        return tokenToEth_ETH(params, step, history, current_state, input_)\n",
    "    elif action == 'AddLiquidity':\n",
    "        return addLiquidity_ETH(params, step, history, current_state, input_)\n",
    "    elif action == 'Transfer':\n",
    "        return removeLiquidity_ETH(params, step, history, current_state, input_)\n",
    "    return('ETH_balance', current_state['ETH_balance'])\n",
    "\n",
    "def mechanismHub_UNI(params, step, history, current_state, input_):\n",
    "    action = input_['action_id']\n",
    "    if action == 'AddLiquidity':\n",
    "        return addLiquidity_UNI(params, step, history, current_state, input_)\n",
    "    elif action == 'Transfer':\n",
    "        return removeLiquidity_UNI(params, step, history, current_state, input_)\n",
    "    return('UNI_supply', current_state['UNI_supply'])\n",
    "    "
   ]
  },
  {
   "cell_type": "markdown",
   "metadata": {},
   "source": [
    "Finally, we define the list of Partial State Update Blocks - in this case, a single PSUB"
   ]
  },
  {
   "cell_type": "code",
   "execution_count": 13,
   "metadata": {},
   "outputs": [],
   "source": [
    "PSUBs = [\n",
    "    {\n",
    "        'policies': {\n",
    "            'user_action': actionDecoder\n",
    "        },\n",
    "        'variables': {\n",
    "            'DAI_balance': mechanismHub_DAI,\n",
    "            'ETH_balance': mechanismHub_ETH,\n",
    "            'UNI_supply': mechanismHub_UNI\n",
    "        }\n",
    "    }\n",
    "]"
   ]
  },
  {
   "cell_type": "code",
   "execution_count": 14,
   "metadata": {},
   "outputs": [
    {
     "name": "stdout",
     "output_type": "stream",
     "text": [
      "\n",
      "                  ___________    ____\n",
      "  ________ __ ___/ / ____/   |  / __ \\\n",
      " / ___/ __` / __  / /   / /| | / / / /\n",
      "/ /__/ /_/ / /_/ / /___/ ___ |/ /_/ /\n",
      "\\___/\\__,_/\\__,_/\\____/_/  |_/_____/\n",
      "by cadCAD\n",
      "\n",
      "Execution Mode: local_proc\n",
      "Configuration Count: 2\n",
      "Dimensions of the first simulation: (Timesteps, Params, Runs, Vars) = (101484, 2, 1, 3)\n"
     ]
    },
    {
     "data": {
      "application/vnd.jupyter.widget-view+json": {
       "model_id": "601a3fa05346496090aa41def93342c4",
       "version_major": 2,
       "version_minor": 0
      },
      "text/plain": [
       "HBox(children=(FloatProgress(value=0.0, description='Initializing configurations', max=2.0, style=ProgressStyl…"
      ]
     },
     "metadata": {},
     "output_type": "display_data"
    },
    {
     "name": "stdout",
     "output_type": "stream",
     "text": [
      "\n",
      "Execution Method: local_simulations\n",
      "SimIDs   : [0, 0]\n",
      "SubsetIDs: [0, 0]\n",
      "Ns       : [0, 0]\n",
      "ExpIDs   : [0, 0]\n",
      "Execution Mode: parallelized\n"
     ]
    },
    {
     "data": {
      "application/vnd.jupyter.widget-view+json": {
       "model_id": "483f3be91bdb497389df07a548a9178c",
       "version_major": 2,
       "version_minor": 0
      },
      "text/plain": [
       "HBox(children=(FloatProgress(value=0.0, description='Executing PSUBs', max=2.0, style=ProgressStyle(descriptio…"
      ]
     },
     "metadata": {},
     "output_type": "display_data"
    },
    {
     "name": "stdout",
     "output_type": "stream",
     "text": [
      "\n"
     ]
    },
    {
     "data": {
      "application/vnd.jupyter.widget-view+json": {
       "model_id": "3883ad8929764306831e54ca627ff112",
       "version_major": 2,
       "version_minor": 0
      },
      "text/plain": [
       "HBox(children=(FloatProgress(value=0.0, description='Flattening results', max=2.0, style=ProgressStyle(descrip…"
      ]
     },
     "metadata": {},
     "output_type": "display_data"
    },
    {
     "name": "stdout",
     "output_type": "stream",
     "text": [
      "\n",
      "Total execution time: 24.70s\n"
     ]
    }
   ],
   "source": [
    "from cadCAD.configuration import Experiment\n",
    "from cadCAD.configuration.utils import config_sim\n",
    "\n",
    "# the number of timesteps in our simulation is the length of the events dataset minus the first two events\n",
    "# as they are already accounted for in the initial conditions of the system\n",
    "sim_config = config_sim (\n",
    "    {\n",
    "        'T': range(len(uniswap_events)-2),\n",
    "        'N': 1,\n",
    "        'M': params\n",
    "    }\n",
    ")\n",
    "\n",
    "exp = Experiment()\n",
    "\n",
    "exp.append_configs(\n",
    "    sim_configs=sim_config,\n",
    "    initial_state=state,\n",
    "    partial_state_update_blocks=PSUBs\n",
    ")\n",
    "\n",
    "from cadCAD import configs\n",
    "from cadCAD.engine import ExecutionMode, ExecutionContext, Executor\n",
    "exec_mode = ExecutionMode()\n",
    "exec_context = ExecutionContext(exec_mode.local_mode)\n",
    "executor = Executor(exec_context, 2 * configs)\n",
    "raw_result, tensor, _ = executor.execute()\n",
    "\n",
    "df = pd.DataFrame(raw_result).query('run == 1')"
   ]
  },
  {
   "cell_type": "markdown",
   "metadata": {},
   "source": [
    "_____________"
   ]
  },
  {
   "cell_type": "markdown",
   "metadata": {},
   "source": [
    "## ANALYSIS"
   ]
  },
  {
   "cell_type": "code",
   "execution_count": 15,
   "metadata": {},
   "outputs": [],
   "source": [
    "model_history = df[['DAI_balance', 'ETH_balance', 'UNI_supply']]\n",
    "model_history.columns = ['model_DAI_balance', 'model_ETH_balance', 'model_UNI_supply']"
   ]
  },
  {
   "cell_type": "code",
   "execution_count": 16,
   "metadata": {},
   "outputs": [],
   "source": [
    "real_history = uniswap_events.iloc[1:][['token_balance','eth_balance','UNI_supply']].reset_index(drop=True)\n",
    "real_history.columns = ['real_DAI_balance', 'real_ETH_balance', 'real_UNI_supply']"
   ]
  },
  {
   "cell_type": "markdown",
   "metadata": {},
   "source": [
    "Despite the simplifications, the outputs of the model are very similar to the real data"
   ]
  },
  {
   "cell_type": "code",
   "execution_count": 17,
   "metadata": {},
   "outputs": [
    {
     "data": {
      "text/plain": [
       "<matplotlib.axes._subplots.AxesSubplot at 0x7fb0886e28d0>"
      ]
     },
     "execution_count": 17,
     "metadata": {},
     "output_type": "execute_result"
    },
    {
     "data": {
      "image/png": "[encoded data removed]",
      "text/plain": [
       "<Figure size 1080x360 with 3 Axes>"
      ]
     },
     "metadata": {
      "needs_background": "light"
     },
     "output_type": "display_data"
    }
   ],
   "source": [
    "import matplotlib.pyplot as plt\n",
    "plt.figure(figsize=(15,5))\n",
    "ax = plt.subplot(131)\n",
    "model_history.astype(float).plot(ax=ax, y=['model_ETH_balance'])\n",
    "real_history.astype(float).plot(ax=ax, y=['real_ETH_balance'])\n",
    "ax = plt.subplot(132)\n",
    "model_history.astype(float).plot(ax=ax, y=['model_DAI_balance'])\n",
    "real_history.astype(float).plot(ax=ax, y=['real_DAI_balance'])\n",
    "ax = plt.subplot(133)\n",
    "model_history.astype(float).plot(ax=ax, y=['model_UNI_supply'])\n",
    "real_history.astype(float).plot(ax=ax, y=['real_UNI_supply'])"
   ]
  },
  {
   "cell_type": "markdown",
   "metadata": {},
   "source": [
    "Only if we look much more closely can we see some deviation"
   ]
  },
  {
   "cell_type": "code",
   "execution_count": 18,
   "metadata": {},
   "outputs": [
    {
     "data": {
      "text/html": [
       "<div>\n",
       "<style scoped>\n",
       "    .dataframe tbody tr th:only-of-type {\n",
       "        vertical-align: middle;\n",
       "    }\n",
       "\n",
       "    .dataframe tbody tr th {\n",
       "        vertical-align: top;\n",
       "    }\n",
       "\n",
       "    .dataframe thead th {\n",
       "        text-align: right;\n",
       "    }\n",
       "</style>\n",
       "<table border=\"1\" class=\"dataframe\">\n",
       "  <thead>\n",
       "    <tr style=\"text-align: right;\">\n",
       "      <th></th>\n",
       "      <th>model_DAI_balance</th>\n",
       "      <th>model_ETH_balance</th>\n",
       "      <th>model_UNI_supply</th>\n",
       "    </tr>\n",
       "  </thead>\n",
       "  <tbody>\n",
       "    <tr>\n",
       "      <th>202969</th>\n",
       "      <td>1268445487370480899199906</td>\n",
       "      <td>6306058808358170889735</td>\n",
       "      <td>5320123300661846672003</td>\n",
       "    </tr>\n",
       "  </tbody>\n",
       "</table>\n",
       "</div>"
      ],
      "text/plain": [
       "                model_DAI_balance       model_ETH_balance  \\\n",
       "202969  1268445487370480899199906  6306058808358170889735   \n",
       "\n",
       "              model_UNI_supply  \n",
       "202969  5320123300661846672003  "
      ]
     },
     "execution_count": 18,
     "metadata": {},
     "output_type": "execute_result"
    }
   ],
   "source": [
    "model_history.tail(1)"
   ]
  },
  {
   "cell_type": "code",
   "execution_count": 19,
   "metadata": {},
   "outputs": [
    {
     "data": {
      "text/html": [
       "<div>\n",
       "<style scoped>\n",
       "    .dataframe tbody tr th:only-of-type {\n",
       "        vertical-align: middle;\n",
       "    }\n",
       "\n",
       "    .dataframe tbody tr th {\n",
       "        vertical-align: top;\n",
       "    }\n",
       "\n",
       "    .dataframe thead th {\n",
       "        text-align: right;\n",
       "    }\n",
       "</style>\n",
       "<table border=\"1\" class=\"dataframe\">\n",
       "  <thead>\n",
       "    <tr style=\"text-align: right;\">\n",
       "      <th></th>\n",
       "      <th>real_DAI_balance</th>\n",
       "      <th>real_ETH_balance</th>\n",
       "      <th>real_UNI_supply</th>\n",
       "    </tr>\n",
       "  </thead>\n",
       "  <tbody>\n",
       "    <tr>\n",
       "      <th>101484</th>\n",
       "      <td>1268456444556868663822658</td>\n",
       "      <td>6306033015368245238058</td>\n",
       "      <td>5320135262833503868378</td>\n",
       "    </tr>\n",
       "  </tbody>\n",
       "</table>\n",
       "</div>"
      ],
      "text/plain": [
       "                 real_DAI_balance        real_ETH_balance  \\\n",
       "101484  1268456444556868663822658  6306033015368245238058   \n",
       "\n",
       "               real_UNI_supply  \n",
       "101484  5320135262833503868378  "
      ]
     },
     "execution_count": 19,
     "metadata": {},
     "output_type": "execute_result"
    }
   ],
   "source": [
    "real_history.tail(1)"
   ]
  },
  {
   "cell_type": "code",
   "execution_count": 20,
   "metadata": {},
   "outputs": [
    {
     "data": {
      "text/plain": [
       "0.9999913617953263"
      ]
     },
     "execution_count": 20,
     "metadata": {},
     "output_type": "execute_result"
    }
   ],
   "source": [
    "model_history.iloc[-1]['model_DAI_balance']/real_history.iloc[-1]['real_DAI_balance']"
   ]
  },
  {
   "cell_type": "code",
   "execution_count": 21,
   "metadata": {},
   "outputs": [
    {
     "data": {
      "text/plain": [
       "1.0000040902085134"
      ]
     },
     "execution_count": 21,
     "metadata": {},
     "output_type": "execute_result"
    }
   ],
   "source": [
    "model_history.iloc[-1]['model_ETH_balance']/real_history.iloc[-1]['real_ETH_balance']"
   ]
  },
  {
   "cell_type": "code",
   "execution_count": 22,
   "metadata": {},
   "outputs": [
    {
     "data": {
      "text/plain": [
       "0.9999977515286612"
      ]
     },
     "execution_count": 22,
     "metadata": {},
     "output_type": "execute_result"
    }
   ],
   "source": [
    "model_history.iloc[-1]['model_UNI_supply']/real_history.iloc[-1]['real_UNI_supply']"
   ]
  },
  {
   "cell_type": "code",
   "execution_count": null,
   "metadata": {},
   "outputs": [],
   "source": []
  }
 ],
 "metadata": {
  "kernelspec": {
   "display_name": "Python 3",
   "language": "python",
   "name": "python3"
  },
  "language_info": {
   "codemirror_mode": {
    "name": "ipython",
    "version": 3
   },
   "file_extension": ".py",
   "mimetype": "text/x-python",
   "name": "python",
   "nbconvert_exporter": "python",
   "pygments_lexer": "ipython3",
   "version": "3.7.6"
  }
 },
 "nbformat": 4,
 "nbformat_minor": 4
}
