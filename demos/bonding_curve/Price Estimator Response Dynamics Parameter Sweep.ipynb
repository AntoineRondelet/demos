{
 "cells": [
  {
   "cell_type": "markdown",
   "metadata": {},
   "source": [
    "10-run Monte Carlo experiment for each $$\\sigma \\in \\{0.1/2^K|K=1,\\ldots 10\\}$$ totaling 100 experiments. Used to determine sigma in random walk [Price Estimator Response Dynamics](https://github.com/BlockScience/ZarghamPapers/blob/master/Economic%20Games%20as%20Estimators/Price%20Estimator%20Response%20Dynamics.ipynb)"
   ]
  },
  {
   "cell_type": "code",
   "execution_count": 5,
   "metadata": {},
   "outputs": [],
   "source": [
    "# import libraries \n",
    "import matplotlib.pyplot as plt\n",
    "import numpy as np\n",
    "import scipy.stats as sts\n",
    "import seaborn as sns\n",
    "\n",
    "%matplotlib inline\n",
    "from bonding_curve_eq import *"
   ]
  },
  {
   "cell_type": "markdown",
   "metadata": {},
   "source": [
    "## System Initialization"
   ]
  },
  {
   "cell_type": "code",
   "execution_count": 6,
   "metadata": {},
   "outputs": [],
   "source": [
    "hatch_raise = 100000 # fiat units\n",
    "hatch_price = .1 #fiat per tokens\n",
    "theta = .5 #share of funds going to funding pool at launch\n",
    "\n",
    "R0 = hatch_raise*(1-theta)\n",
    "S0 = hatch_raise/hatch_price\n",
    "\n",
    "kappa = 2 # bonding curvature parameter \n",
    "V0 = invariant(R0,S0,kappa)\n",
    "P0 = spot_price(R0, V0, kappa)\n",
    "\n",
    "dust = 10**-8"
   ]
  },
  {
   "cell_type": "markdown",
   "metadata": {},
   "source": [
    "## Agent Initialization"
   ]
  },
  {
   "cell_type": "code",
   "execution_count": 7,
   "metadata": {},
   "outputs": [],
   "source": [
    "#phi for exiting funds\n",
    "phi = 0\n",
    "\n",
    "#beta is param for armijo rule\n",
    "beta = .9"
   ]
  },
  {
   "cell_type": "code",
   "execution_count": 8,
   "metadata": {},
   "outputs": [],
   "source": [
    "params= {\n",
    "    'kappa': [kappa],\n",
    "    'invariant': [V0],\n",
    "    'dust' : [dust],\n",
    "    'rule' : ['martin' for r in range(10)],\n",
    "    'dP' : ['N/A' for r in range(10)],\n",
    "    'sigma': [.1*(.5**(r+1)) for r in range(10) ],\n",
    "    'period': ['N/A' for r in range(10)]\n",
    "}"
   ]
  },
  {
   "cell_type": "code",
   "execution_count": 9,
   "metadata": {},
   "outputs": [],
   "source": [
    "initial_conditions = {'supply': S0,\n",
    "                      'price': P0,\n",
    "                      'reserve': R0,\n",
    "                      'spot_price': P0,\n",
    "                      'output_price': P0,\n",
    "                      }"
   ]
  },
  {
   "cell_type": "code",
   "execution_count": 10,
   "metadata": {},
   "outputs": [],
   "source": [
    "def set_action(params, step, sL, s):\n",
    "    \n",
    "    R = s['reserve']\n",
    "    S = s['supply']\n",
    "    V0 = params['invariant']\n",
    "    P=s['spot_price']\n",
    "    period = params['period']\n",
    "    \n",
    "    if params['rule'] == 'step':\n",
    "        bump = int((s['timestep'] % int(period/2) == 0))*int(s['timestep']>0)\n",
    "        sign = -(-1)**int((2*s['timestep']/period))\n",
    "        new_price = s['price'] + params['dP']*bump*sign\n",
    "    elif params['rule'] == 'ramp':\n",
    "        sign = (-1)**int((2*s['timestep']/period))\n",
    "        new_price = s['price'] + params['dP']*sign\n",
    "    elif params['rule'] == 'sin':\n",
    "        new_price = P0 + params['dP']*np.sin(2*np.pi*s['timestep']/period)\n",
    "    elif params['rule']=='martin' :\n",
    "        rv = np.random.normal(0, params['sigma'])\n",
    "        new_price = s['price']+s['price']*rv\n",
    "    else :\n",
    "        new_price = s['price']\n",
    "    \n",
    "    \n",
    "    \n",
    "    if P>new_price: #equiv: pbar(0)>phat_a\n",
    "        mech = 'burn'\n",
    "                        \n",
    "        #approx for burn s.t. p=phat\n",
    "        #armijo style\n",
    "        amt = S*(1-params['dust'])\n",
    "\n",
    "        def pbar(amt):\n",
    "            output = withdraw(amt, R,S, V0, params['kappa'])\n",
    "\n",
    "            if not(output[1])>0:\n",
    "                return np.Infinity\n",
    "            elif amt==0:\n",
    "                return P\n",
    "            else:\n",
    "                return output[1]\n",
    "\n",
    "        if amt > params['dust']:\n",
    "            while pbar(amt)< new_price:\n",
    "                amt = amt*beta\n",
    "\n",
    "    else: #equiv pbar(0)<phat_a\n",
    "        mech = 'bond'\n",
    "        #approx for buy s.t. p=phat\n",
    "        #armijo style\n",
    "        amt = R*(1-params['dust'])\n",
    "\n",
    "        def pbar(amt):\n",
    "            output = mint(amt, R,S, V0, params['kappa'])\n",
    "            \n",
    "            if not(output[1])>0:\n",
    "                return 0\n",
    "            elif amt==0:\n",
    "                return P\n",
    "            else:\n",
    "                return output[1]\n",
    "\n",
    "        if amt > params['dust']:\n",
    "            while pbar(amt)> new_price:\n",
    "                amt = amt*beta\n",
    "\n",
    "    action = {'mech':mech, 'amt':amt,'pin':new_price ,'pbar':pbar(amt),'posterior':{}}\n",
    "    \n",
    "    if action['mech'] == 'bond':\n",
    "\n",
    "        dS, pbar = mint(amt, R,S, V0, params['kappa'])\n",
    "        R = R+amt\n",
    "        S = S+dS\n",
    "        P = spot_price(R, V0, kappa)\n",
    "\n",
    "    elif action['mech'] == 'burn':\n",
    "        dR, pbar = withdraw(amt, R,S, V0, params['kappa'])\n",
    "        R = R-dR\n",
    "        S = S-amt\n",
    "        P = spot_price(R, V0, kappa)\n",
    "\n",
    "    action['posterior'] = {'S':S, 'R':R,'P':P}\n",
    "    \n",
    "    return {'action': action}"
   ]
  },
  {
   "cell_type": "code",
   "execution_count": 11,
   "metadata": {},
   "outputs": [],
   "source": [
    "def update_S(params, step, sL, s, _input):\n",
    "    \n",
    "    action = _input['action']\n",
    "    S = action['posterior']['S']\n",
    "    \n",
    "    key = 'supply'\n",
    "    value = S\n",
    "    \n",
    "    return (key, value)\n",
    "\n",
    "def update_R(params, step, sL, s, _input):\n",
    "    \n",
    "    action = _input['action']\n",
    "    R = action['posterior']['R']\n",
    "    \n",
    "    key = 'reserve'\n",
    "    value = R\n",
    "    \n",
    "    return (key, value)\n",
    "\n",
    "def update_P(params, step, sL, s, _input):\n",
    "    \n",
    "    action = _input['action']\n",
    "    P = action['posterior']['P']\n",
    "    \n",
    "    key = 'spot_price'\n",
    "    value = P\n",
    "    \n",
    "    return (key, value)\n",
    "\n",
    "def update_Pbar(params, step, sL, s, _input):\n",
    "    \n",
    "    action = _input['action']\n",
    "    pbar = action['pbar']\n",
    "    \n",
    "    key = 'output_price'\n",
    "    value = pbar\n",
    "    \n",
    "    return (key, value)\n",
    "\n",
    "def capture_Pin(params, step, sL, s, _input):\n",
    "    \n",
    "    Pin = _input['action']['pin']\n",
    "    if Pin== 0:\n",
    "        print(_input['action']) \n",
    "    key = 'price'\n",
    "    value = Pin\n",
    "    \n",
    "    return (key, value)"
   ]
  },
  {
   "cell_type": "code",
   "execution_count": 12,
   "metadata": {},
   "outputs": [],
   "source": [
    "# # # # # # # # # # # # # # # # # # # # # # # # # # # # # # # # # # # # # # # # # # # # # # # # \n",
    "# The Partial State Update Blocks\n",
    "partial_state_update_blocks = [\n",
    "    {\n",
    "      'policies': {\n",
    "          'act': set_action,\n",
    "        },\n",
    "        'variables': {\n",
    "            'supply': update_S, \n",
    "            'reserve': update_R,\n",
    "            'spot_price': update_P,\n",
    "            'output_price': update_Pbar,\n",
    "            'price': capture_Pin,\n",
    "        }\n",
    "    }\n",
    "]"
   ]
  },
  {
   "cell_type": "code",
   "execution_count": 13,
   "metadata": {},
   "outputs": [],
   "source": [
    "time_periods_per_run = 4000\n",
    "monte_carlo_runs = 10\n",
    "\n",
    "from cadCAD.configuration.utils import config_sim\n",
    "simulation_parameters = config_sim({\n",
    "    'T': range(time_periods_per_run),\n",
    "    'N': monte_carlo_runs,\n",
    "    'M': params\n",
    "})"
   ]
  },
  {
   "cell_type": "code",
   "execution_count": 14,
   "metadata": {},
   "outputs": [
    {
     "name": "stdout",
     "output_type": "stream",
     "text": [
      "[{'N': 10, 'T': range(0, 4000), 'M': {'kappa': 2, 'invariant': 20000000.0, 'dust': 1e-08, 'rule': 'martin', 'dP': 'N/A', 'sigma': 0.05, 'period': 'N/A'}}, {'N': 10, 'T': range(0, 4000), 'M': {'kappa': 2, 'invariant': 20000000.0, 'dust': 1e-08, 'rule': 'martin', 'dP': 'N/A', 'sigma': 0.025, 'period': 'N/A'}}, {'N': 10, 'T': range(0, 4000), 'M': {'kappa': 2, 'invariant': 20000000.0, 'dust': 1e-08, 'rule': 'martin', 'dP': 'N/A', 'sigma': 0.0125, 'period': 'N/A'}}, {'N': 10, 'T': range(0, 4000), 'M': {'kappa': 2, 'invariant': 20000000.0, 'dust': 1e-08, 'rule': 'martin', 'dP': 'N/A', 'sigma': 0.00625, 'period': 'N/A'}}, {'N': 10, 'T': range(0, 4000), 'M': {'kappa': 2, 'invariant': 20000000.0, 'dust': 1e-08, 'rule': 'martin', 'dP': 'N/A', 'sigma': 0.003125, 'period': 'N/A'}}, {'N': 10, 'T': range(0, 4000), 'M': {'kappa': 2, 'invariant': 20000000.0, 'dust': 1e-08, 'rule': 'martin', 'dP': 'N/A', 'sigma': 0.0015625, 'period': 'N/A'}}, {'N': 10, 'T': range(0, 4000), 'M': {'kappa': 2, 'invariant': 20000000.0, 'dust': 1e-08, 'rule': 'martin', 'dP': 'N/A', 'sigma': 0.00078125, 'period': 'N/A'}}, {'N': 10, 'T': range(0, 4000), 'M': {'kappa': 2, 'invariant': 20000000.0, 'dust': 1e-08, 'rule': 'martin', 'dP': 'N/A', 'sigma': 0.000390625, 'period': 'N/A'}}, {'N': 10, 'T': range(0, 4000), 'M': {'kappa': 2, 'invariant': 20000000.0, 'dust': 1e-08, 'rule': 'martin', 'dP': 'N/A', 'sigma': 0.0001953125, 'period': 'N/A'}}, {'N': 10, 'T': range(0, 4000), 'M': {'kappa': 2, 'invariant': 20000000.0, 'dust': 1e-08, 'rule': 'martin', 'dP': 'N/A', 'sigma': 9.765625e-05, 'period': 'N/A'}}]\n",
      "[{'N': 10, 'T': range(0, 4000), 'M': {'kappa': 2, 'invariant': 20000000.0, 'dust': 1e-08, 'rule': 'martin', 'dP': 'N/A', 'sigma': 0.05, 'period': 'N/A'}}, {'N': 10, 'T': range(0, 4000), 'M': {'kappa': 2, 'invariant': 20000000.0, 'dust': 1e-08, 'rule': 'martin', 'dP': 'N/A', 'sigma': 0.025, 'period': 'N/A'}}, {'N': 10, 'T': range(0, 4000), 'M': {'kappa': 2, 'invariant': 20000000.0, 'dust': 1e-08, 'rule': 'martin', 'dP': 'N/A', 'sigma': 0.0125, 'period': 'N/A'}}, {'N': 10, 'T': range(0, 4000), 'M': {'kappa': 2, 'invariant': 20000000.0, 'dust': 1e-08, 'rule': 'martin', 'dP': 'N/A', 'sigma': 0.00625, 'period': 'N/A'}}, {'N': 10, 'T': range(0, 4000), 'M': {'kappa': 2, 'invariant': 20000000.0, 'dust': 1e-08, 'rule': 'martin', 'dP': 'N/A', 'sigma': 0.003125, 'period': 'N/A'}}, {'N': 10, 'T': range(0, 4000), 'M': {'kappa': 2, 'invariant': 20000000.0, 'dust': 1e-08, 'rule': 'martin', 'dP': 'N/A', 'sigma': 0.0015625, 'period': 'N/A'}}, {'N': 10, 'T': range(0, 4000), 'M': {'kappa': 2, 'invariant': 20000000.0, 'dust': 1e-08, 'rule': 'martin', 'dP': 'N/A', 'sigma': 0.00078125, 'period': 'N/A'}}, {'N': 10, 'T': range(0, 4000), 'M': {'kappa': 2, 'invariant': 20000000.0, 'dust': 1e-08, 'rule': 'martin', 'dP': 'N/A', 'sigma': 0.000390625, 'period': 'N/A'}}, {'N': 10, 'T': range(0, 4000), 'M': {'kappa': 2, 'invariant': 20000000.0, 'dust': 1e-08, 'rule': 'martin', 'dP': 'N/A', 'sigma': 0.0001953125, 'period': 'N/A'}}, {'N': 10, 'T': range(0, 4000), 'M': {'kappa': 2, 'invariant': 20000000.0, 'dust': 1e-08, 'rule': 'martin', 'dP': 'N/A', 'sigma': 9.765625e-05, 'period': 'N/A'}}]\n",
      "[{'N': 10, 'T': range(0, 4000), 'M': {'kappa': 2, 'invariant': 20000000.0, 'dust': 1e-08, 'rule': 'martin', 'dP': 'N/A', 'sigma': 0.05, 'period': 'N/A'}}, {'N': 10, 'T': range(0, 4000), 'M': {'kappa': 2, 'invariant': 20000000.0, 'dust': 1e-08, 'rule': 'martin', 'dP': 'N/A', 'sigma': 0.025, 'period': 'N/A'}}, {'N': 10, 'T': range(0, 4000), 'M': {'kappa': 2, 'invariant': 20000000.0, 'dust': 1e-08, 'rule': 'martin', 'dP': 'N/A', 'sigma': 0.0125, 'period': 'N/A'}}, {'N': 10, 'T': range(0, 4000), 'M': {'kappa': 2, 'invariant': 20000000.0, 'dust': 1e-08, 'rule': 'martin', 'dP': 'N/A', 'sigma': 0.00625, 'period': 'N/A'}}, {'N': 10, 'T': range(0, 4000), 'M': {'kappa': 2, 'invariant': 20000000.0, 'dust': 1e-08, 'rule': 'martin', 'dP': 'N/A', 'sigma': 0.003125, 'period': 'N/A'}}, {'N': 10, 'T': range(0, 4000), 'M': {'kappa': 2, 'invariant': 20000000.0, 'dust': 1e-08, 'rule': 'martin', 'dP': 'N/A', 'sigma': 0.0015625, 'period': 'N/A'}}, {'N': 10, 'T': range(0, 4000), 'M': {'kappa': 2, 'invariant': 20000000.0, 'dust': 1e-08, 'rule': 'martin', 'dP': 'N/A', 'sigma': 0.00078125, 'period': 'N/A'}}, {'N': 10, 'T': range(0, 4000), 'M': {'kappa': 2, 'invariant': 20000000.0, 'dust': 1e-08, 'rule': 'martin', 'dP': 'N/A', 'sigma': 0.000390625, 'period': 'N/A'}}, {'N': 10, 'T': range(0, 4000), 'M': {'kappa': 2, 'invariant': 20000000.0, 'dust': 1e-08, 'rule': 'martin', 'dP': 'N/A', 'sigma': 0.0001953125, 'period': 'N/A'}}, {'N': 10, 'T': range(0, 4000), 'M': {'kappa': 2, 'invariant': 20000000.0, 'dust': 1e-08, 'rule': 'martin', 'dP': 'N/A', 'sigma': 9.765625e-05, 'period': 'N/A'}}]\n",
      "[{'N': 10, 'T': range(0, 4000), 'M': {'kappa': 2, 'invariant': 20000000.0, 'dust': 1e-08, 'rule': 'martin', 'dP': 'N/A', 'sigma': 0.05, 'period': 'N/A'}}, {'N': 10, 'T': range(0, 4000), 'M': {'kappa': 2, 'invariant': 20000000.0, 'dust': 1e-08, 'rule': 'martin', 'dP': 'N/A', 'sigma': 0.025, 'period': 'N/A'}}, {'N': 10, 'T': range(0, 4000), 'M': {'kappa': 2, 'invariant': 20000000.0, 'dust': 1e-08, 'rule': 'martin', 'dP': 'N/A', 'sigma': 0.0125, 'period': 'N/A'}}, {'N': 10, 'T': range(0, 4000), 'M': {'kappa': 2, 'invariant': 20000000.0, 'dust': 1e-08, 'rule': 'martin', 'dP': 'N/A', 'sigma': 0.00625, 'period': 'N/A'}}, {'N': 10, 'T': range(0, 4000), 'M': {'kappa': 2, 'invariant': 20000000.0, 'dust': 1e-08, 'rule': 'martin', 'dP': 'N/A', 'sigma': 0.003125, 'period': 'N/A'}}, {'N': 10, 'T': range(0, 4000), 'M': {'kappa': 2, 'invariant': 20000000.0, 'dust': 1e-08, 'rule': 'martin', 'dP': 'N/A', 'sigma': 0.0015625, 'period': 'N/A'}}, {'N': 10, 'T': range(0, 4000), 'M': {'kappa': 2, 'invariant': 20000000.0, 'dust': 1e-08, 'rule': 'martin', 'dP': 'N/A', 'sigma': 0.00078125, 'period': 'N/A'}}, {'N': 10, 'T': range(0, 4000), 'M': {'kappa': 2, 'invariant': 20000000.0, 'dust': 1e-08, 'rule': 'martin', 'dP': 'N/A', 'sigma': 0.000390625, 'period': 'N/A'}}, {'N': 10, 'T': range(0, 4000), 'M': {'kappa': 2, 'invariant': 20000000.0, 'dust': 1e-08, 'rule': 'martin', 'dP': 'N/A', 'sigma': 0.0001953125, 'period': 'N/A'}}, {'N': 10, 'T': range(0, 4000), 'M': {'kappa': 2, 'invariant': 20000000.0, 'dust': 1e-08, 'rule': 'martin', 'dP': 'N/A', 'sigma': 9.765625e-05, 'period': 'N/A'}}]\n",
      "[{'N': 10, 'T': range(0, 4000), 'M': {'kappa': 2, 'invariant': 20000000.0, 'dust': 1e-08, 'rule': 'martin', 'dP': 'N/A', 'sigma': 0.05, 'period': 'N/A'}}, {'N': 10, 'T': range(0, 4000), 'M': {'kappa': 2, 'invariant': 20000000.0, 'dust': 1e-08, 'rule': 'martin', 'dP': 'N/A', 'sigma': 0.025, 'period': 'N/A'}}, {'N': 10, 'T': range(0, 4000), 'M': {'kappa': 2, 'invariant': 20000000.0, 'dust': 1e-08, 'rule': 'martin', 'dP': 'N/A', 'sigma': 0.0125, 'period': 'N/A'}}, {'N': 10, 'T': range(0, 4000), 'M': {'kappa': 2, 'invariant': 20000000.0, 'dust': 1e-08, 'rule': 'martin', 'dP': 'N/A', 'sigma': 0.00625, 'period': 'N/A'}}, {'N': 10, 'T': range(0, 4000), 'M': {'kappa': 2, 'invariant': 20000000.0, 'dust': 1e-08, 'rule': 'martin', 'dP': 'N/A', 'sigma': 0.003125, 'period': 'N/A'}}, {'N': 10, 'T': range(0, 4000), 'M': {'kappa': 2, 'invariant': 20000000.0, 'dust': 1e-08, 'rule': 'martin', 'dP': 'N/A', 'sigma': 0.0015625, 'period': 'N/A'}}, {'N': 10, 'T': range(0, 4000), 'M': {'kappa': 2, 'invariant': 20000000.0, 'dust': 1e-08, 'rule': 'martin', 'dP': 'N/A', 'sigma': 0.00078125, 'period': 'N/A'}}, {'N': 10, 'T': range(0, 4000), 'M': {'kappa': 2, 'invariant': 20000000.0, 'dust': 1e-08, 'rule': 'martin', 'dP': 'N/A', 'sigma': 0.000390625, 'period': 'N/A'}}, {'N': 10, 'T': range(0, 4000), 'M': {'kappa': 2, 'invariant': 20000000.0, 'dust': 1e-08, 'rule': 'martin', 'dP': 'N/A', 'sigma': 0.0001953125, 'period': 'N/A'}}, {'N': 10, 'T': range(0, 4000), 'M': {'kappa': 2, 'invariant': 20000000.0, 'dust': 1e-08, 'rule': 'martin', 'dP': 'N/A', 'sigma': 9.765625e-05, 'period': 'N/A'}}]\n",
      "[{'N': 10, 'T': range(0, 4000), 'M': {'kappa': 2, 'invariant': 20000000.0, 'dust': 1e-08, 'rule': 'martin', 'dP': 'N/A', 'sigma': 0.05, 'period': 'N/A'}}, {'N': 10, 'T': range(0, 4000), 'M': {'kappa': 2, 'invariant': 20000000.0, 'dust': 1e-08, 'rule': 'martin', 'dP': 'N/A', 'sigma': 0.025, 'period': 'N/A'}}, {'N': 10, 'T': range(0, 4000), 'M': {'kappa': 2, 'invariant': 20000000.0, 'dust': 1e-08, 'rule': 'martin', 'dP': 'N/A', 'sigma': 0.0125, 'period': 'N/A'}}, {'N': 10, 'T': range(0, 4000), 'M': {'kappa': 2, 'invariant': 20000000.0, 'dust': 1e-08, 'rule': 'martin', 'dP': 'N/A', 'sigma': 0.00625, 'period': 'N/A'}}, {'N': 10, 'T': range(0, 4000), 'M': {'kappa': 2, 'invariant': 20000000.0, 'dust': 1e-08, 'rule': 'martin', 'dP': 'N/A', 'sigma': 0.003125, 'period': 'N/A'}}, {'N': 10, 'T': range(0, 4000), 'M': {'kappa': 2, 'invariant': 20000000.0, 'dust': 1e-08, 'rule': 'martin', 'dP': 'N/A', 'sigma': 0.0015625, 'period': 'N/A'}}, {'N': 10, 'T': range(0, 4000), 'M': {'kappa': 2, 'invariant': 20000000.0, 'dust': 1e-08, 'rule': 'martin', 'dP': 'N/A', 'sigma': 0.00078125, 'period': 'N/A'}}, {'N': 10, 'T': range(0, 4000), 'M': {'kappa': 2, 'invariant': 20000000.0, 'dust': 1e-08, 'rule': 'martin', 'dP': 'N/A', 'sigma': 0.000390625, 'period': 'N/A'}}, {'N': 10, 'T': range(0, 4000), 'M': {'kappa': 2, 'invariant': 20000000.0, 'dust': 1e-08, 'rule': 'martin', 'dP': 'N/A', 'sigma': 0.0001953125, 'period': 'N/A'}}, {'N': 10, 'T': range(0, 4000), 'M': {'kappa': 2, 'invariant': 20000000.0, 'dust': 1e-08, 'rule': 'martin', 'dP': 'N/A', 'sigma': 9.765625e-05, 'period': 'N/A'}}]\n",
      "[{'N': 10, 'T': range(0, 4000), 'M': {'kappa': 2, 'invariant': 20000000.0, 'dust': 1e-08, 'rule': 'martin', 'dP': 'N/A', 'sigma': 0.05, 'period': 'N/A'}}, {'N': 10, 'T': range(0, 4000), 'M': {'kappa': 2, 'invariant': 20000000.0, 'dust': 1e-08, 'rule': 'martin', 'dP': 'N/A', 'sigma': 0.025, 'period': 'N/A'}}, {'N': 10, 'T': range(0, 4000), 'M': {'kappa': 2, 'invariant': 20000000.0, 'dust': 1e-08, 'rule': 'martin', 'dP': 'N/A', 'sigma': 0.0125, 'period': 'N/A'}}, {'N': 10, 'T': range(0, 4000), 'M': {'kappa': 2, 'invariant': 20000000.0, 'dust': 1e-08, 'rule': 'martin', 'dP': 'N/A', 'sigma': 0.00625, 'period': 'N/A'}}, {'N': 10, 'T': range(0, 4000), 'M': {'kappa': 2, 'invariant': 20000000.0, 'dust': 1e-08, 'rule': 'martin', 'dP': 'N/A', 'sigma': 0.003125, 'period': 'N/A'}}, {'N': 10, 'T': range(0, 4000), 'M': {'kappa': 2, 'invariant': 20000000.0, 'dust': 1e-08, 'rule': 'martin', 'dP': 'N/A', 'sigma': 0.0015625, 'period': 'N/A'}}, {'N': 10, 'T': range(0, 4000), 'M': {'kappa': 2, 'invariant': 20000000.0, 'dust': 1e-08, 'rule': 'martin', 'dP': 'N/A', 'sigma': 0.00078125, 'period': 'N/A'}}, {'N': 10, 'T': range(0, 4000), 'M': {'kappa': 2, 'invariant': 20000000.0, 'dust': 1e-08, 'rule': 'martin', 'dP': 'N/A', 'sigma': 0.000390625, 'period': 'N/A'}}, {'N': 10, 'T': range(0, 4000), 'M': {'kappa': 2, 'invariant': 20000000.0, 'dust': 1e-08, 'rule': 'martin', 'dP': 'N/A', 'sigma': 0.0001953125, 'period': 'N/A'}}, {'N': 10, 'T': range(0, 4000), 'M': {'kappa': 2, 'invariant': 20000000.0, 'dust': 1e-08, 'rule': 'martin', 'dP': 'N/A', 'sigma': 9.765625e-05, 'period': 'N/A'}}]\n",
      "[{'N': 10, 'T': range(0, 4000), 'M': {'kappa': 2, 'invariant': 20000000.0, 'dust': 1e-08, 'rule': 'martin', 'dP': 'N/A', 'sigma': 0.05, 'period': 'N/A'}}, {'N': 10, 'T': range(0, 4000), 'M': {'kappa': 2, 'invariant': 20000000.0, 'dust': 1e-08, 'rule': 'martin', 'dP': 'N/A', 'sigma': 0.025, 'period': 'N/A'}}, {'N': 10, 'T': range(0, 4000), 'M': {'kappa': 2, 'invariant': 20000000.0, 'dust': 1e-08, 'rule': 'martin', 'dP': 'N/A', 'sigma': 0.0125, 'period': 'N/A'}}, {'N': 10, 'T': range(0, 4000), 'M': {'kappa': 2, 'invariant': 20000000.0, 'dust': 1e-08, 'rule': 'martin', 'dP': 'N/A', 'sigma': 0.00625, 'period': 'N/A'}}, {'N': 10, 'T': range(0, 4000), 'M': {'kappa': 2, 'invariant': 20000000.0, 'dust': 1e-08, 'rule': 'martin', 'dP': 'N/A', 'sigma': 0.003125, 'period': 'N/A'}}, {'N': 10, 'T': range(0, 4000), 'M': {'kappa': 2, 'invariant': 20000000.0, 'dust': 1e-08, 'rule': 'martin', 'dP': 'N/A', 'sigma': 0.0015625, 'period': 'N/A'}}, {'N': 10, 'T': range(0, 4000), 'M': {'kappa': 2, 'invariant': 20000000.0, 'dust': 1e-08, 'rule': 'martin', 'dP': 'N/A', 'sigma': 0.00078125, 'period': 'N/A'}}, {'N': 10, 'T': range(0, 4000), 'M': {'kappa': 2, 'invariant': 20000000.0, 'dust': 1e-08, 'rule': 'martin', 'dP': 'N/A', 'sigma': 0.000390625, 'period': 'N/A'}}, {'N': 10, 'T': range(0, 4000), 'M': {'kappa': 2, 'invariant': 20000000.0, 'dust': 1e-08, 'rule': 'martin', 'dP': 'N/A', 'sigma': 0.0001953125, 'period': 'N/A'}}, {'N': 10, 'T': range(0, 4000), 'M': {'kappa': 2, 'invariant': 20000000.0, 'dust': 1e-08, 'rule': 'martin', 'dP': 'N/A', 'sigma': 9.765625e-05, 'period': 'N/A'}}]\n",
      "[{'N': 10, 'T': range(0, 4000), 'M': {'kappa': 2, 'invariant': 20000000.0, 'dust': 1e-08, 'rule': 'martin', 'dP': 'N/A', 'sigma': 0.05, 'period': 'N/A'}}, {'N': 10, 'T': range(0, 4000), 'M': {'kappa': 2, 'invariant': 20000000.0, 'dust': 1e-08, 'rule': 'martin', 'dP': 'N/A', 'sigma': 0.025, 'period': 'N/A'}}, {'N': 10, 'T': range(0, 4000), 'M': {'kappa': 2, 'invariant': 20000000.0, 'dust': 1e-08, 'rule': 'martin', 'dP': 'N/A', 'sigma': 0.0125, 'period': 'N/A'}}, {'N': 10, 'T': range(0, 4000), 'M': {'kappa': 2, 'invariant': 20000000.0, 'dust': 1e-08, 'rule': 'martin', 'dP': 'N/A', 'sigma': 0.00625, 'period': 'N/A'}}, {'N': 10, 'T': range(0, 4000), 'M': {'kappa': 2, 'invariant': 20000000.0, 'dust': 1e-08, 'rule': 'martin', 'dP': 'N/A', 'sigma': 0.003125, 'period': 'N/A'}}, {'N': 10, 'T': range(0, 4000), 'M': {'kappa': 2, 'invariant': 20000000.0, 'dust': 1e-08, 'rule': 'martin', 'dP': 'N/A', 'sigma': 0.0015625, 'period': 'N/A'}}, {'N': 10, 'T': range(0, 4000), 'M': {'kappa': 2, 'invariant': 20000000.0, 'dust': 1e-08, 'rule': 'martin', 'dP': 'N/A', 'sigma': 0.00078125, 'period': 'N/A'}}, {'N': 10, 'T': range(0, 4000), 'M': {'kappa': 2, 'invariant': 20000000.0, 'dust': 1e-08, 'rule': 'martin', 'dP': 'N/A', 'sigma': 0.000390625, 'period': 'N/A'}}, {'N': 10, 'T': range(0, 4000), 'M': {'kappa': 2, 'invariant': 20000000.0, 'dust': 1e-08, 'rule': 'martin', 'dP': 'N/A', 'sigma': 0.0001953125, 'period': 'N/A'}}, {'N': 10, 'T': range(0, 4000), 'M': {'kappa': 2, 'invariant': 20000000.0, 'dust': 1e-08, 'rule': 'martin', 'dP': 'N/A', 'sigma': 9.765625e-05, 'period': 'N/A'}}]\n",
      "[{'N': 10, 'T': range(0, 4000), 'M': {'kappa': 2, 'invariant': 20000000.0, 'dust': 1e-08, 'rule': 'martin', 'dP': 'N/A', 'sigma': 0.05, 'period': 'N/A'}}, {'N': 10, 'T': range(0, 4000), 'M': {'kappa': 2, 'invariant': 20000000.0, 'dust': 1e-08, 'rule': 'martin', 'dP': 'N/A', 'sigma': 0.025, 'period': 'N/A'}}, {'N': 10, 'T': range(0, 4000), 'M': {'kappa': 2, 'invariant': 20000000.0, 'dust': 1e-08, 'rule': 'martin', 'dP': 'N/A', 'sigma': 0.0125, 'period': 'N/A'}}, {'N': 10, 'T': range(0, 4000), 'M': {'kappa': 2, 'invariant': 20000000.0, 'dust': 1e-08, 'rule': 'martin', 'dP': 'N/A', 'sigma': 0.00625, 'period': 'N/A'}}, {'N': 10, 'T': range(0, 4000), 'M': {'kappa': 2, 'invariant': 20000000.0, 'dust': 1e-08, 'rule': 'martin', 'dP': 'N/A', 'sigma': 0.003125, 'period': 'N/A'}}, {'N': 10, 'T': range(0, 4000), 'M': {'kappa': 2, 'invariant': 20000000.0, 'dust': 1e-08, 'rule': 'martin', 'dP': 'N/A', 'sigma': 0.0015625, 'period': 'N/A'}}, {'N': 10, 'T': range(0, 4000), 'M': {'kappa': 2, 'invariant': 20000000.0, 'dust': 1e-08, 'rule': 'martin', 'dP': 'N/A', 'sigma': 0.00078125, 'period': 'N/A'}}, {'N': 10, 'T': range(0, 4000), 'M': {'kappa': 2, 'invariant': 20000000.0, 'dust': 1e-08, 'rule': 'martin', 'dP': 'N/A', 'sigma': 0.000390625, 'period': 'N/A'}}, {'N': 10, 'T': range(0, 4000), 'M': {'kappa': 2, 'invariant': 20000000.0, 'dust': 1e-08, 'rule': 'martin', 'dP': 'N/A', 'sigma': 0.0001953125, 'period': 'N/A'}}, {'N': 10, 'T': range(0, 4000), 'M': {'kappa': 2, 'invariant': 20000000.0, 'dust': 1e-08, 'rule': 'martin', 'dP': 'N/A', 'sigma': 9.765625e-05, 'period': 'N/A'}}]\n"
     ]
    }
   ],
   "source": [
    "from cadCAD.configuration import append_configs\n",
    "# # # # # # # # # # # # # # # # # # # # # # # # # # # # # # # # # # # # # # # # # # # # # # # #\n",
    "# The configurations above are then packaged into a `Configuration` object\n",
    "append_configs(\n",
    "    initial_state=initial_conditions, #dict containing variable names and initial values\n",
    "    partial_state_update_blocks=partial_state_update_blocks, #dict containing state update functions\n",
    "    sim_configs=simulation_parameters #dict containing simulation parameters\n",
    ")"
   ]
  },
  {
   "cell_type": "code",
   "execution_count": 15,
   "metadata": {},
   "outputs": [],
   "source": [
    "from tabulate import tabulate\n",
    "from cadCAD.engine import ExecutionMode, ExecutionContext, Executor\n",
    "from cadCAD import configs\n",
    "import pandas as pd\n",
    "\n",
    "exec_mode = ExecutionMode()\n",
    "multi_proc_ctx = ExecutionContext(context=exec_mode.multi_proc)\n",
    "run = Executor(exec_context=multi_proc_ctx, configs=configs)"
   ]
  },
  {
   "cell_type": "code",
   "execution_count": 16,
   "metadata": {},
   "outputs": [
    {
     "name": "stdout",
     "output_type": "stream",
     "text": [
      "\n",
      "                            __________   ____ \n",
      "          ________ __ _____/ ____/   |  / __ \\\n",
      "         / ___/ __` / __  / /   / /| | / / / /\n",
      "        / /__/ /_/ / /_/ / /___/ ___ |/ /_/ / \n",
      "        \\___/\\__,_/\\__,_/\\____/_/  |_/_____/  \n",
      "        by BlockScience\n",
      "        \n",
      "Execution Mode: multi_proc: [<cadCAD.configuration.Configuration object at 0x7f18f4a569d0>, <cadCAD.configuration.Configuration object at 0x7f18f4a56c10>, <cadCAD.configuration.Configuration object at 0x7f18f4a56d50>, <cadCAD.configuration.Configuration object at 0x7f18f4a56e90>, <cadCAD.configuration.Configuration object at 0x7f18f4af6a90>, <cadCAD.configuration.Configuration object at 0x7f18f4a5f150>, <cadCAD.configuration.Configuration object at 0x7f18f4a5f290>, <cadCAD.configuration.Configuration object at 0x7f18f4a5f3d0>, <cadCAD.configuration.Configuration object at 0x7f18f4a5f510>, <cadCAD.configuration.Configuration object at 0x7f18f4a5f110>]\n",
      "Configurations: [<cadCAD.configuration.Configuration object at 0x7f18f4a569d0>, <cadCAD.configuration.Configuration object at 0x7f18f4a56c10>, <cadCAD.configuration.Configuration object at 0x7f18f4a56d50>, <cadCAD.configuration.Configuration object at 0x7f18f4a56e90>, <cadCAD.configuration.Configuration object at 0x7f18f4af6a90>, <cadCAD.configuration.Configuration object at 0x7f18f4a5f150>, <cadCAD.configuration.Configuration object at 0x7f18f4a5f290>, <cadCAD.configuration.Configuration object at 0x7f18f4a5f3d0>, <cadCAD.configuration.Configuration object at 0x7f18f4a5f510>, <cadCAD.configuration.Configuration object at 0x7f18f4a5f110>]\n"
     ]
    }
   ],
   "source": [
    "i = 0\n",
    "verbose = False\n",
    "results = {}\n",
    "for raw_result, tensor_field in run.execute():\n",
    "    result = pd.DataFrame(raw_result)\n",
    "    if verbose:\n",
    "        print()\n",
    "        print(f\"Tensor Field: {type(tensor_field)}\")\n",
    "        print(tabulate(tensor_field, headers='keys', tablefmt='psql'))\n",
    "        print(f\"Output: {type(result)}\")\n",
    "        print(tabulate(result, headers='keys', tablefmt='psql'))\n",
    "        print()\n",
    "    results[i] = {}\n",
    "    results[i]['result'] = result\n",
    "    results[i]['simulation_parameters'] = simulation_parameters[i]\n",
    "    i += 1\n",
    "    "
   ]
  },
  {
   "cell_type": "code",
   "execution_count": 17,
   "metadata": {},
   "outputs": [
    {
     "data": {
      "text/plain": [
       "0.10961220792947979"
      ]
     },
     "execution_count": 17,
     "metadata": {},
     "output_type": "execute_result"
    }
   ],
   "source": [
    "experiment_index = 0\n",
    "results[experiment_index]['result'].price[1]"
   ]
  },
  {
   "cell_type": "code",
   "execution_count": 18,
   "metadata": {},
   "outputs": [
    {
     "data": {
      "text/plain": [
       "{'kappa': 2,\n",
       " 'invariant': 20000000.0,\n",
       " 'dust': 1e-08,\n",
       " 'rule': 'martin',\n",
       " 'dP': 'N/A',\n",
       " 'sigma': 0.05,\n",
       " 'period': 'N/A'}"
      ]
     },
     "execution_count": 18,
     "metadata": {},
     "output_type": "execute_result"
    }
   ],
   "source": [
    "results[0]['simulation_parameters']['M']"
   ]
  },
  {
   "cell_type": "code",
   "execution_count": 19,
   "metadata": {},
   "outputs": [],
   "source": [
    "def assign_run(df, T = time_periods_per_run):\n",
    "    temp_df = df.reset_index()\n",
    "    temp_df[\"run\"] = temp_df['index'].apply(lambda x: int(np.floor(x/(T+1))))\n",
    "    \n",
    "    return temp_df.drop(\"index\", axis =1)"
   ]
  },
  {
   "cell_type": "code",
   "execution_count": 20,
   "metadata": {},
   "outputs": [],
   "source": [
    "def append_parameters(result, experiment_index):\n",
    "    sim_params = result['simulation_parameters']\n",
    "    params = sim_params['M']\n",
    "    frame = result['result']\n",
    "    frame[\"experiment_index\"] = experiment_index\n",
    "    for key in params.keys():\n",
    "        frame[key] = params[key]\n",
    "        \n",
    "    return frame"
   ]
  },
  {
   "cell_type": "code",
   "execution_count": 21,
   "metadata": {},
   "outputs": [],
   "source": [
    "def package_results(results):\n",
    "    dataframes =  [ assign_run(append_parameters(results[experiment_index],experiment_index)) for experiment_index in range(i)]\n",
    "    return pd.concat(dataframes)"
   ]
  },
  {
   "cell_type": "code",
   "execution_count": 22,
   "metadata": {},
   "outputs": [],
   "source": [
    "df = package_results(results)"
   ]
  },
  {
   "cell_type": "code",
   "execution_count": 23,
   "metadata": {},
   "outputs": [
    {
     "data": {
      "text/html": [
       "<div>\n",
       "<style scoped>\n",
       "    .dataframe tbody tr th:only-of-type {\n",
       "        vertical-align: middle;\n",
       "    }\n",
       "\n",
       "    .dataframe tbody tr th {\n",
       "        vertical-align: top;\n",
       "    }\n",
       "\n",
       "    .dataframe thead th {\n",
       "        text-align: right;\n",
       "    }\n",
       "</style>\n",
       "<table border=\"1\" class=\"dataframe\">\n",
       "  <thead>\n",
       "    <tr style=\"text-align: right;\">\n",
       "      <th></th>\n",
       "      <th>supply</th>\n",
       "      <th>price</th>\n",
       "      <th>reserve</th>\n",
       "      <th>spot_price</th>\n",
       "      <th>output_price</th>\n",
       "      <th>run</th>\n",
       "      <th>substep</th>\n",
       "      <th>timestep</th>\n",
       "      <th>experiment_index</th>\n",
       "      <th>kappa</th>\n",
       "      <th>invariant</th>\n",
       "      <th>dust</th>\n",
       "      <th>rule</th>\n",
       "      <th>dP</th>\n",
       "      <th>sigma</th>\n",
       "      <th>period</th>\n",
       "    </tr>\n",
       "  </thead>\n",
       "  <tbody>\n",
       "    <tr>\n",
       "      <th>0</th>\n",
       "      <td>1.000000e+06</td>\n",
       "      <td>0.100000</td>\n",
       "      <td>50000.000000</td>\n",
       "      <td>0.100000</td>\n",
       "      <td>0.100000</td>\n",
       "      <td>0</td>\n",
       "      <td>0</td>\n",
       "      <td>0</td>\n",
       "      <td>0</td>\n",
       "      <td>2</td>\n",
       "      <td>20000000.0</td>\n",
       "      <td>1.000000e-08</td>\n",
       "      <td>martin</td>\n",
       "      <td>N/A</td>\n",
       "      <td>0.05</td>\n",
       "      <td>N/A</td>\n",
       "    </tr>\n",
       "    <tr>\n",
       "      <th>1</th>\n",
       "      <td>1.177888e+06</td>\n",
       "      <td>0.109612</td>\n",
       "      <td>69371.024256</td>\n",
       "      <td>0.117789</td>\n",
       "      <td>0.108894</td>\n",
       "      <td>0</td>\n",
       "      <td>1</td>\n",
       "      <td>1</td>\n",
       "      <td>0</td>\n",
       "      <td>2</td>\n",
       "      <td>20000000.0</td>\n",
       "      <td>1.000000e-08</td>\n",
       "      <td>martin</td>\n",
       "      <td>N/A</td>\n",
       "      <td>0.05</td>\n",
       "      <td>N/A</td>\n",
       "    </tr>\n",
       "    <tr>\n",
       "      <th>2</th>\n",
       "      <td>1.093328e+06</td>\n",
       "      <td>0.113489</td>\n",
       "      <td>59768.283270</td>\n",
       "      <td>0.109333</td>\n",
       "      <td>0.113561</td>\n",
       "      <td>0</td>\n",
       "      <td>1</td>\n",
       "      <td>2</td>\n",
       "      <td>0</td>\n",
       "      <td>2</td>\n",
       "      <td>20000000.0</td>\n",
       "      <td>1.000000e-08</td>\n",
       "      <td>martin</td>\n",
       "      <td>N/A</td>\n",
       "      <td>0.05</td>\n",
       "      <td>N/A</td>\n",
       "    </tr>\n",
       "    <tr>\n",
       "      <th>3</th>\n",
       "      <td>1.006117e+06</td>\n",
       "      <td>0.104526</td>\n",
       "      <td>50613.563413</td>\n",
       "      <td>0.100612</td>\n",
       "      <td>0.104972</td>\n",
       "      <td>0</td>\n",
       "      <td>1</td>\n",
       "      <td>3</td>\n",
       "      <td>0</td>\n",
       "      <td>2</td>\n",
       "      <td>20000000.0</td>\n",
       "      <td>1.000000e-08</td>\n",
       "      <td>martin</td>\n",
       "      <td>N/A</td>\n",
       "      <td>0.05</td>\n",
       "      <td>N/A</td>\n",
       "    </tr>\n",
       "    <tr>\n",
       "      <th>4</th>\n",
       "      <td>1.139371e+06</td>\n",
       "      <td>0.107767</td>\n",
       "      <td>64908.328525</td>\n",
       "      <td>0.113937</td>\n",
       "      <td>0.107274</td>\n",
       "      <td>0</td>\n",
       "      <td>1</td>\n",
       "      <td>4</td>\n",
       "      <td>0</td>\n",
       "      <td>2</td>\n",
       "      <td>20000000.0</td>\n",
       "      <td>1.000000e-08</td>\n",
       "      <td>martin</td>\n",
       "      <td>N/A</td>\n",
       "      <td>0.05</td>\n",
       "      <td>N/A</td>\n",
       "    </tr>\n",
       "  </tbody>\n",
       "</table>\n",
       "</div>"
      ],
      "text/plain": [
       "         supply     price       reserve  spot_price  output_price  run  \\\n",
       "0  1.000000e+06  0.100000  50000.000000    0.100000      0.100000    0   \n",
       "1  1.177888e+06  0.109612  69371.024256    0.117789      0.108894    0   \n",
       "2  1.093328e+06  0.113489  59768.283270    0.109333      0.113561    0   \n",
       "3  1.006117e+06  0.104526  50613.563413    0.100612      0.104972    0   \n",
       "4  1.139371e+06  0.107767  64908.328525    0.113937      0.107274    0   \n",
       "\n",
       "   substep  timestep  experiment_index  kappa   invariant          dust  \\\n",
       "0        0         0                 0      2  20000000.0  1.000000e-08   \n",
       "1        1         1                 0      2  20000000.0  1.000000e-08   \n",
       "2        1         2                 0      2  20000000.0  1.000000e-08   \n",
       "3        1         3                 0      2  20000000.0  1.000000e-08   \n",
       "4        1         4                 0      2  20000000.0  1.000000e-08   \n",
       "\n",
       "     rule   dP  sigma period  \n",
       "0  martin  N/A   0.05    N/A  \n",
       "1  martin  N/A   0.05    N/A  \n",
       "2  martin  N/A   0.05    N/A  \n",
       "3  martin  N/A   0.05    N/A  \n",
       "4  martin  N/A   0.05    N/A  "
      ]
     },
     "execution_count": 23,
     "metadata": {},
     "output_type": "execute_result"
    }
   ],
   "source": [
    "df.head()"
   ]
  },
  {
   "cell_type": "raw",
   "metadata": {
    "scrolled": false
   },
   "source": [
    "df[['timestep','experiment_index','run','price', 'spot_price']].groupby(['run','experiment_index']).plot(x='timestep', y=['price', 'spot_price'])\n",
    "plt.show()"
   ]
  },
  {
   "cell_type": "code",
   "execution_count": 24,
   "metadata": {},
   "outputs": [],
   "source": [
    "df['err'] = df.price-df.spot_price\n",
    "df['abs_err']= df.err.apply(abs)"
   ]
  },
  {
   "cell_type": "raw",
   "metadata": {},
   "source": [
    "df.err.plot()"
   ]
  },
  {
   "cell_type": "raw",
   "metadata": {},
   "source": [
    "df.iloc[1995:2050].plot(y=['price', 'spot_price'])"
   ]
  },
  {
   "cell_type": "raw",
   "metadata": {},
   "source": [
    "df.iloc[1995:2050].plot(y=['err','abs_err'])"
   ]
  },
  {
   "cell_type": "raw",
   "metadata": {},
   "source": [
    "df.abs_err.plot(logy=True)"
   ]
  },
  {
   "cell_type": "raw",
   "metadata": {
    "scrolled": false
   },
   "source": [
    "df[['timestep','experiment_index','run','abs_err']].groupby(['run','experiment_index']).plot(x='timestep', y='abs_err', logy=True)"
   ]
  },
  {
   "cell_type": "raw",
   "metadata": {},
   "source": [
    "sns.jointplot(x='price', y='spot_price',kind='kde',data=df[df.rule==\"martin\"].sample(5000))"
   ]
  },
  {
   "cell_type": "code",
   "execution_count": 25,
   "metadata": {},
   "outputs": [],
   "source": [
    "gb=df[['timestep','experiment_index','run','abs_err','sigma']].groupby(['run','experiment_index'])"
   ]
  },
  {
   "cell_type": "code",
   "execution_count": 26,
   "metadata": {},
   "outputs": [],
   "source": [
    "sigs = params['sigma']"
   ]
  },
  {
   "cell_type": "code",
   "execution_count": 27,
   "metadata": {},
   "outputs": [],
   "source": [
    "sig_data= [df[df.sigma == sig ].abs_err for sig in sigs]"
   ]
  },
  {
   "cell_type": "code",
   "execution_count": 28,
   "metadata": {},
   "outputs": [],
   "source": [
    "df['rel_err'] = df.abs_err/df.spot_price"
   ]
  },
  {
   "cell_type": "code",
   "execution_count": 29,
   "metadata": {},
   "outputs": [],
   "source": [
    "sig_data2= [df[df.sigma == sig ].rel_err for sig in sigs]"
   ]
  },
  {
   "cell_type": "raw",
   "metadata": {},
   "source": [
    "plt.subplots(figsize=(10,4))\n",
    "plt.hist(sig_data, bins=[.85**pow for pow in range(100,-1,-1)], stacked=True)\n",
    "plt.xscale(\"log\")\n",
    "plt.legend(['$\\sigma$ = '+str(st) for st in params['sigma']], bbox_to_anchor=(1, 1), loc='upper left', ncol=1 )\n",
    "\n",
    "plt.title('Distribution of Estimation Errors by Martingale variance $\\sigma$')\n",
    "plt.ylabel(\"\"\"Count of Observations,\n",
    "for each $\\sigma$: 10 runs of 4000 samples \"\"\")\n",
    "plt.xlabel('Absolute Estimation Error: $|P_t - \\hat P_t|$')\n",
    "plt.show()"
   ]
  },
  {
   "cell_type": "code",
   "execution_count": 30,
   "metadata": {},
   "outputs": [
    {
     "data": {
      "image/png": "[encoded data removed]",
      "text/plain": [
       "<Figure size 720x288 with 1 Axes>"
      ]
     },
     "metadata": {
      "needs_background": "light"
     },
     "output_type": "display_data"
    }
   ],
   "source": [
    "plt.subplots(figsize=(10,4))\n",
    "plt.hist(sig_data2, bins=[.87**pow for pow in range(100,-1,-1)], stacked=True)\n",
    "plt.xscale(\"log\")\n",
    "plt.legend(['$\\sigma$ = '+str(st) for st in params['sigma']], bbox_to_anchor=(1, 1), loc='upper left', ncol=1 )\n",
    "\n",
    "plt.title('Distribution of Estimation Errors by Martingale variance $\\sigma$')\n",
    "plt.ylabel(\"\"\"Count of Observations,\n",
    "for each $\\sigma$: 10 runs of 4000 samples \"\"\")\n",
    "plt.xlabel('Relative Estimation Error: $|P_t - \\hat P_t|/P_t$')\n",
    "plt.show()"
   ]
  },
  {
   "cell_type": "markdown",
   "metadata": {},
   "source": [
    "Distribution of relative estimation errors for various sigmas in the random walk."
   ]
  },
  {
   "cell_type": "code",
   "execution_count": 31,
   "metadata": {},
   "outputs": [],
   "source": [
    "df['price_pc']=df.price.pct_change()\n",
    "df['spot_price_pc']=df.spot_price.pct_change()"
   ]
  },
  {
   "cell_type": "code",
   "execution_count": 32,
   "metadata": {},
   "outputs": [],
   "source": [
    "def response_plot(rdf, title):\n",
    "    plt.subplots(figsize=(10,6))\n",
    "    ax1=plt.subplot(2,1,1)\n",
    "    #rdf[[\"timestep\",\"spot_price\",\"price\"]].plot(x='timestep',ax=ax1)\n",
    "    rdf[[\"spot_price\",\"price\"]].plot(ax=ax1)\n",
    "    plt.legend([\"spot price (output: $P_t$)\", \"price sample (input: $\\hat P_t$)\" ])\n",
    "    #plt.xlabel(\"transaction count (time)\")\n",
    "    plt.ylabel(\"Price, $\\hat P_t$, $P_t$\")\n",
    "    plt.title(title+\" Response Dynamics\")\n",
    "    ax2=plt.subplot(2,1,2)\n",
    "    #rdf[[\"timestep\",\"abs_err\"]].plot(x=\"timestep\",ax=ax2,logy=True, color='green')\n",
    "    rdf[[\"abs_err\"]].plot(ax=ax2,logy=True, color='green')\n",
    "    plt.legend([\"$Error: |P_t-\\hat P_t|$\" ])\n",
    "    plt.xlabel(\"transaction count (time)\")\n",
    "    plt.ylabel(\"Absolute Value of Estimation Error\")\n",
    "    plt.show()"
   ]
  },
  {
   "cell_type": "raw",
   "metadata": {
    "scrolled": false
   },
   "source": [
    "for c in range(10):\n",
    "    response_plot(df[df.experiment_index==c], \"Martingale (w/ $\\sigma=$\"+str(params['sigma'][c])+\")\")"
   ]
  }
 ],
 "metadata": {
  "kernelspec": {
   "display_name": "Python 3",
   "language": "python",
   "name": "python3"
  },
  "language_info": {
   "codemirror_mode": {
    "name": "ipython",
    "version": 3
   },
   "file_extension": ".py",
   "mimetype": "text/x-python",
   "name": "python",
   "nbconvert_exporter": "python",
   "pygments_lexer": "ipython3",
   "version": "3.7.5"
  }
 },
 "nbformat": 4,
 "nbformat_minor": 2
}
