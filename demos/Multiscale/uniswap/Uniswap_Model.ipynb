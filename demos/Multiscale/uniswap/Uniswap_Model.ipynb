{
 "cells": [
  {
   "cell_type": "markdown",
   "metadata": {},
   "source": [
    "# Simple Uniswap Demo\n",
    "\n",
    "## Introduction to Uniswap\n",
    ">Uniswap is an automated market maker for exchanging ERC20 tokens. Anyone can become a liquidity provider, and invest in the liquidity pool of an ERC20 token. This allows other users to trade that token for other tokens at an exchange rate based on their relative availibility. When a token trade is executed, a small fee is paid to the liquidity providers that enabled the transaction.\n",
    "https://uniswap.io/\n",
    "\n",
    "There are basically eight ways (_mechanisms_) in which an agent can interact with an instance of Uniswap (https://github.com/Uniswap/uniswap-v1/blob/master/contracts/uniswap_exchange.vy):\n",
    "1. `addLiquidity`: deposit ETH and tokens in the liquidity pool; mint UNI tokens - \"shares\" of that Uniswap instance - in exchange;\n",
    "1. `removeLiquidity`: burn UNI tokens; withdraw a proportional amount of ETH and tokens in exchange;\n",
    "1. `ethToTokenInput`: user specifies an exact amount of ETH they send; receives corresponding amount of tokens\n",
    "1. `ethToTokenOutput`: user sends some ETH and specifies an exact amount of tokens they want to buy; Uniswap refunds ETH sent in excess\n",
    "1. `tokenToEthInput`: user specifies an exact amount of tokens they send; receives corresponding amount of ETH\n",
    "1. `tokenToEthOutput`: user specifies an exact amount of ETH they want to buy; Uniswap takes the corresponding amount of tokens from the user account\n",
    "1. `tokenToTokenInput`: user specifies an exact amount of \"token A\" they send; receives corresponding amount of \"token B\" (effectively a `tokenToEthInput` in instance A combined with a `ethToTokenInput` in instance B)\n",
    "1. `tokenToTokenOutput`: user specifies an exact amount of \"token B˜ they want to buy; Uniswap takes the corresponding amount of \"token A\" from the user account (effectively a `ethToTokenOutput` in instance B combined with a `tokenToEthOutput` in instance A)\n",
    "\n",
    "## Limitations and simplifications of this model\n",
    "* When triggering mechanisms, Uniswap users may include conditions they would like to apply to the transaction. For example, they could define a minimum amount of UNI tokens they wish to receive as a result of adding liquidity to the pool; or the maximum number of tokens they are willing to pay for the amount of ETH requested in a `tokenToEthOutput` operation; or a deadline after which the transaction should not be processed. **This simplified model does not account for this kind conditioning.**\n",
    "\n",
    "* The `ethToTokenOutput`, `tokenToEthOutput` mechanisms are not implemented. **All swaps are treated as of the \"input defined\" type.**\n",
    "\n",
    "* The `tokenToToken` mechanism are not implemented, as they are merely a `tokenToEth` in the context of a single Uniswap instance.\n",
    "\n",
    "* **User _behavior_ has not been modeled**. User _actions_ are derived from the history of events of the Uniswap instance being analyzed.\n",
    "\n"
   ]
  },
  {
   "cell_type": "markdown",
   "metadata": {},
   "source": [
    "In order to better mimic the behavior of Uniswap, we need to pay special attention to two things:\n",
    "1. make explicit that we want numbers to be treated as integers by the Python interpreter - there are probably more casts to `int` than needed throughout the code;\n",
    "1. Uniswap was coded in Vyper, where the `/` operator applied to integer variables returns the dividend of the division. In order to achieve the same in Python, we need to use _\"floor division\"_ (`//`) instead of _\"true division\"_ (`/`)."
   ]
  },
  {
   "cell_type": "code",
   "execution_count": 7,
   "metadata": {},
   "outputs": [
    {
     "name": "stdout",
     "output_type": "stream",
     "text": [
      "10000000000000000000 / 5000000000000000001 = 2.0\n",
      "int(10000000000000000000 / 5000000000000000001) = 2\n",
      "10000000000000000000 // 5000000000000000001 = 1\n"
     ]
    }
   ],
   "source": [
    "expr = '10000000000000000000 / 5000000000000000001'\n",
    "print(f'{expr} = {eval(expr)}')\n",
    "expr = 'int(10000000000000000000 / 5000000000000000001)'\n",
    "print(f'{expr} = {eval(expr)}')\n",
    "expr = '10000000000000000000 // 5000000000000000001'\n",
    "print(f'{expr} = {eval(expr)}')"
   ]
  },
  {
   "cell_type": "markdown",
   "metadata": {},
   "source": [
    "## Model File structure\n",
    "* Uniswap_Model.ipynb\n",
    "* model\n",
    "\n",
    "In the model folder there exist 4 files and a parts folder, the [config.py](model/config.py), [partial_state_update_block.py](model/partial_state_update_block.py), [run.py](model/run.py), and [state_variables.py](state_variables.py). The [config.py](model/config.py) contains the simulation configurations, aggregating the partial states, and the state variables. The [partial_state_update_block.py](model/partial_state_update_block.py) contains the partial state update blocks and how they update the state variables. [state_variables.py](state_variables.py) defines the state variables and [run.py](model/run.py) actually runs the simulation. \n",
    "\n",
    "The components of the model live within the parts subfolder as:\n",
    "\n",
    "* [system.py](model/parts/system.py)\n",
    "* [utils.py](model/parts/utils.py)\n",
    "* uniswap_events.pickle* \n",
    "\n",
    "The initial parameters and hyperparameters of the system are defined in [sys_params.py](model/sys_params.py) and helper functions, plots, etc. are in the [utils.py](model/parts/utils.py).\n"
   ]
  },
  {
   "cell_type": "markdown",
   "metadata": {},
   "source": [
    "### Model dataset*\n",
    "To run our simulation, we use real uniswap event data that was was generated using [Kaggle/BigQuery](https://www.kaggle.com/markusbkoch/uniswap-ethdai-exchange/). Please download [here](https://www.kaggleusercontent.com/kf/21051736/eyJhbGciOiJkaXIiLCJlbmMiOiJBMTI4Q0JDLUhTMjU2In0..HdZwILo7rBzA0baBSYIogA.5sWqgw2JU7MhBWp6MFRE2kpUJPQyAsOmljPX3jRGeEJMY5bYdZNjeW6XsuOkVDe8v4wcL5Efa3EpkrrC7bu-RLKqEEHazP2L5IQHGoYhschgBumjaoR2VPGM4xL40abyFTesKlVHGef2EIIlwpvHX0DcNrMQI-MpyVEjMSHx_oY.kBNFGv1rap1qLe-tfqQA6A/uniswap_events.pickle). and put in the model/parts folder (the same directory that has the *system.py* and *utils.py* files).\n",
    "\n",
    "To learn how to download and analyze Uniswap data, visit [this notebook](data/ETHDAI_EDA_and_ETL.ipynb)\n",
    "\n",
    "## Run Model"
   ]
  },
  {
   "cell_type": "code",
   "execution_count": 6,
   "metadata": {},
   "outputs": [
    {
     "name": "stdout",
     "output_type": "stream",
     "text": [
      "\n",
      "                  ___________    ____\n",
      "  ________ __ ___/ / ____/   |  / __ \\\n",
      " / ___/ __` / __  / /   / /| | / / / /\n",
      "/ /__/ /_/ / /_/ / /___/ ___ |/ /_/ /\n",
      "\\___/\\__,_/\\__,_/\\____/_/  |_/_____/\n",
      "by cadCAD\n",
      "\n",
      "Execution Mode: local_proc\n",
      "Configuration Count: 1\n",
      "Dimensions of the first simulation: (Timesteps, Params, Runs, Vars) = (147437, 2, 1, 3)\n",
      "Execution Method: local_simulations\n",
      "SimIDs   : [0]\n",
      "SubsetIDs: [0]\n",
      "Ns       : [0]\n",
      "ExpIDs   : [0]\n",
      "Execution Mode: single_threaded\n",
      "Total execution time: 9.65s\n"
     ]
    }
   ],
   "source": [
    "# Dependences\n",
    "import pandas as pd\n",
    "import numpy as np\n",
    "import matplotlib.pyplot as plt\n",
    "\n",
    "# Experiments\n",
    "from model import run\n",
    "from model.parts.utils import *\n",
    "pd.options.display.float_format = '{:.2f}'.format\n",
    "\n",
    "%matplotlib inline\n",
    "\n",
    "df = run.run()\n",
    "rdf = run.postprocessing(df)\n"
   ]
  },
  {
   "cell_type": "markdown",
   "metadata": {},
   "source": [
    "## Analysis\n",
    "\n",
    "For information on how to access and analysis data from the Eth/Dai Uniswap smart contract, visit our sister notebook [here](Uniswap_EthDai_Exchange_Data.ipynb).\n",
    "\n",
    "\n",
    "In this section, we will analyze how well our model compares to the actual data"
   ]
  },
  {
   "cell_type": "code",
   "execution_count": 8,
   "metadata": {},
   "outputs": [],
   "source": [
    "model_history = rdf[['DAI_balance', 'ETH_balance', 'UNI_supply']]\n",
    "model_history.columns = ['model_DAI_balance', 'model_ETH_balance', 'model_UNI_supply']"
   ]
  },
  {
   "cell_type": "code",
   "execution_count": 9,
   "metadata": {},
   "outputs": [],
   "source": [
    "uniswap_events = pd.read_pickle('model/parts/uniswap_events.pickle')\n",
    "real_history = uniswap_events.iloc[1:][['token_balance','eth_balance','UNI_supply']].reset_index(drop=True)\n",
    "real_history.columns = ['real_DAI_balance', 'real_ETH_balance', 'real_UNI_supply']"
   ]
  },
  {
   "cell_type": "markdown",
   "metadata": {},
   "source": [
    "Despite the simplifications, the outputs of the model are very similar to the real data"
   ]
  },
  {
   "cell_type": "code",
   "execution_count": 10,
   "metadata": {},
   "outputs": [
    {
     "data": {
      "text/plain": [
       "<matplotlib.axes._subplots.AxesSubplot at 0x7fb1ad14f370>"
      ]
     },
     "execution_count": 10,
     "metadata": {},
     "output_type": "execute_result"
    },
    {
     "data": {
      "image/png": "[encoded data removed]",
      "text/plain": [
       "<Figure size 1080x360 with 3 Axes>"
      ]
     },
     "metadata": {
      "needs_background": "light"
     },
     "output_type": "display_data"
    }
   ],
   "source": [
    "plt.figure(figsize=(15,5))\n",
    "ax = plt.subplot(131)\n",
    "model_history.astype(float).plot(ax=ax, y=['model_ETH_balance'])\n",
    "real_history.astype(float).plot(ax=ax, y=['real_ETH_balance'])\n",
    "ax = plt.subplot(132)\n",
    "model_history.astype(float).plot(ax=ax, y=['model_DAI_balance'])\n",
    "real_history.astype(float).plot(ax=ax, y=['real_DAI_balance'])\n",
    "ax = plt.subplot(133)\n",
    "model_history.astype(float).plot(ax=ax, y=['model_UNI_supply'])\n",
    "real_history.astype(float).plot(ax=ax, y=['real_UNI_supply'])"
   ]
  },
  {
   "cell_type": "markdown",
   "metadata": {},
   "source": [
    "Only if we look much more closely can we see some deviation"
   ]
  },
  {
   "cell_type": "code",
   "execution_count": 11,
   "metadata": {},
   "outputs": [
    {
     "data": {
      "text/html": [
       "<div>\n",
       "<style scoped>\n",
       "    .dataframe tbody tr th:only-of-type {\n",
       "        vertical-align: middle;\n",
       "    }\n",
       "\n",
       "    .dataframe tbody tr th {\n",
       "        vertical-align: top;\n",
       "    }\n",
       "\n",
       "    .dataframe thead th {\n",
       "        text-align: right;\n",
       "    }\n",
       "</style>\n",
       "<table border=\"1\" class=\"dataframe\">\n",
       "  <thead>\n",
       "    <tr style=\"text-align: right;\">\n",
       "      <th></th>\n",
       "      <th>model_DAI_balance</th>\n",
       "      <th>model_ETH_balance</th>\n",
       "      <th>model_UNI_supply</th>\n",
       "    </tr>\n",
       "  </thead>\n",
       "  <tbody>\n",
       "    <tr>\n",
       "      <th>147437</th>\n",
       "      <td>655398639698980968543553</td>\n",
       "      <td>5088972909434012930085</td>\n",
       "      <td>3308419107140103200194</td>\n",
       "    </tr>\n",
       "  </tbody>\n",
       "</table>\n",
       "</div>"
      ],
      "text/plain": [
       "               model_DAI_balance       model_ETH_balance  \\\n",
       "147437  655398639698980968543553  5088972909434012930085   \n",
       "\n",
       "              model_UNI_supply  \n",
       "147437  3308419107140103200194  "
      ]
     },
     "execution_count": 11,
     "metadata": {},
     "output_type": "execute_result"
    }
   ],
   "source": [
    "model_history.tail(1)"
   ]
  },
  {
   "cell_type": "code",
   "execution_count": 12,
   "metadata": {},
   "outputs": [
    {
     "data": {
      "text/html": [
       "<div>\n",
       "<style scoped>\n",
       "    .dataframe tbody tr th:only-of-type {\n",
       "        vertical-align: middle;\n",
       "    }\n",
       "\n",
       "    .dataframe tbody tr th {\n",
       "        vertical-align: top;\n",
       "    }\n",
       "\n",
       "    .dataframe thead th {\n",
       "        text-align: right;\n",
       "    }\n",
       "</style>\n",
       "<table border=\"1\" class=\"dataframe\">\n",
       "  <thead>\n",
       "    <tr style=\"text-align: right;\">\n",
       "      <th></th>\n",
       "      <th>real_DAI_balance</th>\n",
       "      <th>real_ETH_balance</th>\n",
       "      <th>real_UNI_supply</th>\n",
       "    </tr>\n",
       "  </thead>\n",
       "  <tbody>\n",
       "    <tr>\n",
       "      <th>147437</th>\n",
       "      <td>662323537318822558984586</td>\n",
       "      <td>5009819142181678051370</td>\n",
       "      <td>3304234867026987131356</td>\n",
       "    </tr>\n",
       "  </tbody>\n",
       "</table>\n",
       "</div>"
      ],
      "text/plain": [
       "                real_DAI_balance        real_ETH_balance  \\\n",
       "147437  662323537318822558984586  5009819142181678051370   \n",
       "\n",
       "               real_UNI_supply  \n",
       "147437  3304234867026987131356  "
      ]
     },
     "execution_count": 12,
     "metadata": {},
     "output_type": "execute_result"
    }
   ],
   "source": [
    "real_history.tail(1)"
   ]
  },
  {
   "cell_type": "code",
   "execution_count": 13,
   "metadata": {},
   "outputs": [
    {
     "data": {
      "text/plain": [
       "0.9895445394438577"
      ]
     },
     "execution_count": 13,
     "metadata": {},
     "output_type": "execute_result"
    }
   ],
   "source": [
    "model_history.iloc[-1]['model_DAI_balance']/real_history.iloc[-1]['real_DAI_balance']"
   ]
  },
  {
   "cell_type": "code",
   "execution_count": 14,
   "metadata": {},
   "outputs": [
    {
     "data": {
      "text/plain": [
       "1.0157997255002433"
      ]
     },
     "execution_count": 14,
     "metadata": {},
     "output_type": "execute_result"
    }
   ],
   "source": [
    "model_history.iloc[-1]['model_ETH_balance']/real_history.iloc[-1]['real_ETH_balance']"
   ]
  },
  {
   "cell_type": "code",
   "execution_count": 15,
   "metadata": {},
   "outputs": [
    {
     "data": {
      "text/plain": [
       "1.001266326481471"
      ]
     },
     "execution_count": 15,
     "metadata": {},
     "output_type": "execute_result"
    }
   ],
   "source": [
    "model_history.iloc[-1]['model_UNI_supply']/real_history.iloc[-1]['real_UNI_supply']"
   ]
  },
  {
   "cell_type": "markdown",
   "metadata": {},
   "source": [
    "## Conclusion\n",
    "\n",
    "In this notebook, we have illustrated how to create a cadCAD model that takes in real data and replicates the mechanics of a real world smart contract extremely acurately by translating the smart contract code into python code. We enforce best practices for cadCAD modeling, and analyze our simulation data against the real data. "
   ]
  }
 ],
 "metadata": {
  "kernelspec": {
   "display_name": "Python 3",
   "language": "python",
   "name": "python3"
  },
  "language_info": {
   "codemirror_mode": {
    "name": "ipython",
    "version": 3
   },
   "file_extension": ".py",
   "mimetype": "text/x-python",
   "name": "python",
   "nbconvert_exporter": "python",
   "pygments_lexer": "ipython3",
   "version": "3.8.5"
  }
 },
 "nbformat": 4,
 "nbformat_minor": 4
}
