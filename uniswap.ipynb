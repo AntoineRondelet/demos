{
 "cells": [
  {
   "cell_type": "code",
   "execution_count": 1,
   "metadata": {},
   "outputs": [
    {
     "data": {
      "text/plain": [
       "{'market_price_XXXETH': 0.005,\n",
       " 'XXX_balance': 100000000000000000000000,\n",
       " 'ETH_balance': 500000000000000000000,\n",
       " 'UNI_supply': 500000000000000000000}"
      ]
     },
     "execution_count": 1,
     "metadata": {},
     "output_type": "execute_result"
    }
   ],
   "source": [
    "state = {\n",
    "    'market_price_XXXETH': 0.005, # starting market price: 1 ETH = 200 DAI\n",
    "    'XXX_balance': int(100000000000000000000000),\n",
    "    'ETH_balance': int(500000000000000000000) # initial liquidity pool: 500 ETH + 100.000 DAI\n",
    "}\n",
    "# state['ETH_balance'] = state['XXX_balance'] * state['market_price_XXXETH']\n",
    "state['UNI_supply'] = state['ETH_balance']\n",
    "state"
   ]
  },
  {
   "cell_type": "code",
   "execution_count": 2,
   "metadata": {},
   "outputs": [
    {
     "data": {
      "text/plain": [
       "{'fee_factor': [997, 996], 'fee_base': [1000]}"
      ]
     },
     "execution_count": 2,
     "metadata": {},
     "output_type": "execute_result"
    }
   ],
   "source": [
    "params = {\n",
    "    'fee_factor': [997, 996],\n",
    "    'fee_base': [1000]\n",
    "}\n",
    "params"
   ]
  },
  {
   "cell_type": "code",
   "execution_count": 3,
   "metadata": {},
   "outputs": [],
   "source": [
    "# def addLiquidity(min_liquidity: uint256, max_tokens: uint256, deadline: timestamp) -> uint256:\n",
    "#     assert deadline > block.timestamp and (max_tokens > 0 and msg.value > 0)\n",
    "#     total_liquidity: uint256 = self.totalSupply\n",
    "#     if total_liquidity > 0:\n",
    "#         assert min_liquidity > 0\n",
    "#         eth_reserve: uint256(wei) = self.balance - msg.value\n",
    "#         token_reserve: uint256 = self.token.balanceOf(self)\n",
    "#         token_amount: uint256 = msg.value * token_reserve / eth_reserve + 1\n",
    "#         liquidity_minted: uint256 = msg.value * total_liquidity / eth_reserve\n",
    "#         assert max_tokens >= token_amount and liquidity_minted >= min_liquidity\n",
    "#         self.balances[msg.sender] += liquidity_minted\n",
    "#         self.totalSupply = total_liquidity + liquidity_minted\n",
    "#         assert self.token.transferFrom(msg.sender, self, token_amount)\n",
    "#         log.AddLiquidity(msg.sender, msg.value, token_amount)\n",
    "#         log.Transfer(ZERO_ADDRESS, msg.sender, liquidity_minted)\n",
    "#         return liquidity_minted\n",
    "\n",
    "def addLiquidity_UNI(params, step, history, current_state, input_):\n",
    "    total_liquidity = current_state['UNI_supply']\n",
    "    eth_reserve = current_state['ETH_balance']\n",
    "    liquidity_minted = input_['eth_deposit'] * total_liquidity / eth_reserve\n",
    "    return ('UNI_supply', total_liquidity + liquidity_minted)\n",
    "\n",
    "def addLiquidity_ETH(params, step, history, current_state, input_):\n",
    "    eth_reserve = current_state['ETH_balance']\n",
    "    return ('ETH_balance', eth_reserve + input_['eth_deposit'])\n",
    "\n",
    "def addLiquidity_XXX(params, step, history, current_state, input_):\n",
    "    total_liquidity = current_state['UNI_supply']\n",
    "    eth_reserve = current_state['ETH_balance']\n",
    "    token_reserve = current_state['XXX_balance']\n",
    "    token_amount = input_['eth_deposit'] * token_reserve / eth_reserve + 1\n",
    "    return ('XXX_balance', token_reserve + token_amount)"
   ]
  },
  {
   "cell_type": "code",
   "execution_count": 4,
   "metadata": {},
   "outputs": [],
   "source": [
    "# def removeLiquidity(amount: uint256, min_eth: uint256(wei), min_tokens: uint256, deadline: timestamp) -> (uint256(wei), uint256):\n",
    "#     assert (amount > 0 and deadline > block.timestamp) and (min_eth > 0 and min_tokens > 0)\n",
    "#     total_liquidity: uint256 = self.totalSupply\n",
    "#     assert total_liquidity > 0\n",
    "#     token_reserve: uint256 = self.token.balanceOf(self)\n",
    "#     eth_amount: uint256(wei) = amount * self.balance / total_liquidity\n",
    "#     token_amount: uint256 = amount * token_reserve / total_liquidity\n",
    "#     assert eth_amount >= min_eth and token_amount >= min_tokens\n",
    "#     self.balances[msg.sender] -= amount\n",
    "#     self.totalSupply = total_liquidity - amount\n",
    "#     send(msg.sender, eth_amount)\n",
    "#     assert self.token.transfer(msg.sender, token_amount)\n",
    "#     log.RemoveLiquidity(msg.sender, eth_amount, token_amount)\n",
    "#     log.Transfer(msg.sender, ZERO_ADDRESS, amount)\n",
    "#     return eth_amount, token_amount\n",
    "\n",
    "def removeLiquidity_UNI(params, step, history, current_state, input_):\n",
    "    total_liquidity = current_state['UNI_supply']\n",
    "    amount = input_['UNI_burn']\n",
    "    return ('UNI_supply', total_liquidity - amount)\n",
    "\n",
    "def removeLiquidity_ETH(params, step, history, current_state, input_):\n",
    "    total_liquidity = current_state['UNI_supply']\n",
    "    eth_reserve = current_state['ETH_balance']\n",
    "    amount = input_['UNI_burn']\n",
    "    eth_amount = amount * eth_reserve / total_liquidity\n",
    "    return ('ETH_balance', eth_reserve - eth_amount)\n",
    "\n",
    "def removeLiquidity_XXX(params, step, history, current_state, input_):\n",
    "    total_liquidity = current_state['UNI_supply']\n",
    "    token_reserve = current_state['XXX_balance']\n",
    "    amount = input_['UNI_burn']\n",
    "    token_amount = amount * token_reserve / total_liquidity\n",
    "    return ('XXX_balance', token_reserve - token_amount)"
   ]
  },
  {
   "cell_type": "code",
   "execution_count": 5,
   "metadata": {},
   "outputs": [],
   "source": [
    "# @dev Pricing function for converting between ETH and Tokens.\n",
    "# @param input_amount Amount of ETH or Tokens being sold.\n",
    "# @param input_reserve Amount of ETH or Tokens (input type) in exchange reserves.\n",
    "# @param output_reserve Amount of ETH or Tokens (output type) in exchange reserves.\n",
    "# @return Amount of ETH or Tokens bought.\n",
    "def getInputPrice(input_amount, input_reserve, output_reserve, params):\n",
    "    fee_factor = params['fee_factor']\n",
    "    fee_base = params['fee_base']\n",
    "    input_amount_with_fee = input_amount * fee_factor\n",
    "    numerator = input_amount_with_fee * output_reserve\n",
    "    denominator = (input_reserve * fee_base) + input_amount_with_fee\n",
    "    return numerator / denominator\n",
    "\n",
    "# @dev Pricing function for converting between ETH and Tokens.\n",
    "# @param output_amount Amount of ETH or Tokens being bought.\n",
    "# @param input_reserve Amount of ETH or Tokens (input type) in exchange reserves.\n",
    "# @param output_reserve Amount of ETH or Tokens (output type) in exchange reserves.\n",
    "# @return Amount of ETH or Tokens sold.\n",
    "def getOutputPrice(output_amount, input_reserve, output_reserve, params):\n",
    "    fee_factor = params['fee_factor']\n",
    "    fee_base = params['fee_base']\n",
    "    numerator = input_reserve * output_amount * fee_base\n",
    "    denominator = (output_reserve - output_amount) * fee_factor\n",
    "    return numerator / denominator + 1"
   ]
  },
  {
   "cell_type": "code",
   "execution_count": 6,
   "metadata": {},
   "outputs": [],
   "source": [
    "# @private\n",
    "# def ethToTokenInput(eth_sold: uint256(wei), min_tokens: uint256, deadline: timestamp, buyer: address, recipient: address) -> uint256:\n",
    "#     assert deadline >= block.timestamp and (eth_sold > 0 and min_tokens > 0)\n",
    "#     token_reserve: uint256 = self.token.balanceOf(self)\n",
    "#     tokens_bought: uint256 = self.getInputPrice(as_unitless_number(eth_sold), as_unitless_number(self.balance - eth_sold), token_reserve)\n",
    "#     assert tokens_bought >= min_tokens\n",
    "#     assert self.token.transfer(recipient, tokens_bought)\n",
    "#     log.TokenPurchase(buyer, eth_sold, tokens_bought)\n",
    "#     return tokens_bought\n",
    "\n",
    "def ethToToken_ETH(params, step, history, current_state, input_):\n",
    "    eth_sold = input_['eth_sold'] #amount of ETH being sold by the user\n",
    "    eth_reserve = current_state['ETH_balance']\n",
    "    return ('ETH_balance', eth_reserve + eth_sold)\n",
    "\n",
    "def ethToToken_XXX(params, step, history, current_state, input_):\n",
    "    eth_sold = input_['eth_sold'] #amount of ETH being sold by the user\n",
    "    eth_reserve = current_state['ETH_balance']\n",
    "    token_reserve = current_state['XXX_balance']\n",
    "    tokens_bought = getInputPrice(eth_sold, eth_reserve, token_reserve, params)\n",
    "    return ('XXX_balance', token_reserve - tokens_bought)"
   ]
  },
  {
   "cell_type": "code",
   "execution_count": 7,
   "metadata": {},
   "outputs": [],
   "source": [
    "# @private\n",
    "# def tokenToEthInput(tokens_sold: uint256, min_eth: uint256(wei), deadline: timestamp, buyer: address, recipient: address) -> uint256(wei):\n",
    "#     assert deadline >= block.timestamp and (tokens_sold > 0 and min_eth > 0)\n",
    "#     token_reserve: uint256 = self.token.balanceOf(self)\n",
    "#     eth_bought: uint256 = self.getInputPrice(tokens_sold, token_reserve, as_unitless_number(self.balance))\n",
    "#     wei_bought: uint256(wei) = as_wei_value(eth_bought, 'wei')\n",
    "#     assert wei_bought >= min_eth\n",
    "#     send(recipient, wei_bought)\n",
    "#     assert self.token.transferFrom(buyer, self, tokens_sold)\n",
    "#     log.EthPurchase(buyer, tokens_sold, wei_bought)\n",
    "#     return wei_bought\n",
    "\n",
    "def tokenToEth_ETH(params, step, history, current_state, input_):\n",
    "    tokens_sold = input_['tokens_sold'] #amount of tokens being sold by the user\n",
    "    eth_reserve = current_state['ETH_balance']\n",
    "    token_reserve = current_state['XXX_balance']\n",
    "    eth_bought = getInputPrice(tokens_sold, token_reserve, eth_reserve, params)\n",
    "    return ('ETH_balance', eth_reserve - eth_bought)\n",
    "    \n",
    "def tokenToEth_XXX(params, step, history, current_state, input_):\n",
    "    tokens_sold = input_['tokens_sold'] #amount of tokens being sold by the user\n",
    "    token_reserve = current_state['XXX_balance']\n",
    "    return ('XXX_balance', token_reserve + tokens_sold)"
   ]
  },
  {
   "cell_type": "code",
   "execution_count": null,
   "metadata": {},
   "outputs": [],
   "source": []
  },
  {
   "cell_type": "code",
   "execution_count": 8,
   "metadata": {},
   "outputs": [],
   "source": [
    "def marketPriceUpdate(params, step, history, current_state, input_):\n",
    "    price = current_state['market_price_XXXETH']\n",
    "    return ('market_price_XXXETH', price*0.999)"
   ]
  },
  {
   "cell_type": "code",
   "execution_count": null,
   "metadata": {},
   "outputs": [],
   "source": [
    "PSUBs = [\n",
    "    # substep 1 - market price\n",
    "    {\n",
    "        'policies': {\n",
    "        },\n",
    "        'variables': {\n",
    "            'market_price_XXXETH': marketPriceUpdate\n",
    "        }\n",
    "    },\n",
    "    # substep 2 - logical traders\n",
    "    {\n",
    "        'policies': {\n",
    "            \n",
    "        },\n",
    "        'variables': {\n",
    "            \n",
    "        }\n",
    "    },\n",
    "    # substep 3 - liquidity providers\n",
    "    {\n",
    "        'policies': {\n",
    "            \n",
    "        },\n",
    "        'variables': {\n",
    "            \n",
    "        }\n",
    "    },\n",
    "]\n"
   ]
  }
 ],
 "metadata": {
  "kernelspec": {
   "display_name": "Python 3",
   "language": "python",
   "name": "python3"
  },
  "language_info": {
   "codemirror_mode": {
    "name": "ipython",
    "version": 3
   },
   "file_extension": ".py",
   "mimetype": "text/x-python",
   "name": "python",
   "nbconvert_exporter": "python",
   "pygments_lexer": "ipython3",
   "version": "3.6.5"
  }
 },
 "nbformat": 4,
 "nbformat_minor": 2
}
