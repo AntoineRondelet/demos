{
 "cells": [
  {
   "cell_type": "markdown",
   "metadata": {},
   "source": [
    "## Uniswap trade classifier\n",
    "\n",
    "The objective of this notebook is to create an algorithm that is able to classify uniswap trades between convenience and arbritrage trades based on the precision of the amount of coin sold."
   ]
  },
  {
   "cell_type": "code",
   "execution_count": 1,
   "metadata": {},
   "outputs": [],
   "source": [
    "import pandas as pd\n",
    "import matplotlib.pyplot as plt\n",
    "import numpy as np"
   ]
  },
  {
   "cell_type": "code",
   "execution_count": 2,
   "metadata": {},
   "outputs": [],
   "source": [
    "df = pd.read_pickle('uniswap_events.pickle')"
   ]
  },
  {
   "cell_type": "code",
   "execution_count": 3,
   "metadata": {},
   "outputs": [
    {
     "data": {
      "text/plain": [
       "147439"
      ]
     },
     "execution_count": 3,
     "metadata": {},
     "output_type": "execute_result"
    }
   ],
   "source": [
    "len(df)"
   ]
  },
  {
   "cell_type": "code",
   "execution_count": 4,
   "metadata": {},
   "outputs": [],
   "source": [
    "def classifier(df, c_rule):\n",
    "    result = {'Conv': 0,\n",
    "          'Arb': 0,\n",
    "          'None': 0}\n",
    "    for i in range(len(df)):\n",
    "        if df.loc[i, 'event'] == 'EthPurchase' or df.loc[i, 'event'] == 'TokenPurchase':\n",
    "            if (df.loc[i, 'token_delta'] / (10 ** (18-c_rule))).is_integer() or (df.loc[i, 'eth_delta'] / (10 ** (18-c_rule))).is_integer():\n",
    "              result['Conv'] += 1\n",
    "            else:\n",
    "              result['Arb'] += 1\n",
    "        else:\n",
    "            result['None'] +=1\n",
    "    return result"
   ]
  },
  {
   "cell_type": "markdown",
   "metadata": {},
   "source": [
    "We will create a list of c_rule values going from 0 to 18 (minimum ETH denomination is 1 WEI, which is equivalent to 1E10-18 ETH). Afterwards, the classifier function will be applied on the whole uniswap trade history dataframe."
   ]
  },
  {
   "cell_type": "code",
   "execution_count": 5,
   "metadata": {},
   "outputs": [],
   "source": [
    "c_rule = list(range(0,19))\n",
    "res = list()\n",
    "for i in c_rule:\n",
    "        res.append(classifier(df, i))"
   ]
  },
  {
   "cell_type": "code",
   "execution_count": 6,
   "metadata": {
    "scrolled": false
   },
   "outputs": [
    {
     "data": {
      "text/plain": [
       "[{'Conv': 34751, 'Arb': 100858, 'None': 11830},\n",
       " {'Conv': 40955, 'Arb': 94654, 'None': 11830},\n",
       " {'Conv': 47686, 'Arb': 87923, 'None': 11830},\n",
       " {'Conv': 51897, 'Arb': 83712, 'None': 11830},\n",
       " {'Conv': 56827, 'Arb': 78782, 'None': 11830},\n",
       " {'Conv': 58419, 'Arb': 77190, 'None': 11830},\n",
       " {'Conv': 60217, 'Arb': 75392, 'None': 11830},\n",
       " {'Conv': 61112, 'Arb': 74497, 'None': 11830},\n",
       " {'Conv': 62117, 'Arb': 73492, 'None': 11830},\n",
       " {'Conv': 62610, 'Arb': 72999, 'None': 11830},\n",
       " {'Conv': 63287, 'Arb': 72322, 'None': 11830},\n",
       " {'Conv': 65598, 'Arb': 70011, 'None': 11830},\n",
       " {'Conv': 75591, 'Arb': 60018, 'None': 11830},\n",
       " {'Conv': 106266, 'Arb': 29343, 'None': 11830},\n",
       " {'Conv': 125351, 'Arb': 10258, 'None': 11830},\n",
       " {'Conv': 130620, 'Arb': 4989, 'None': 11830},\n",
       " {'Conv': 133163, 'Arb': 2446, 'None': 11830},\n",
       " {'Conv': 134349, 'Arb': 1260, 'None': 11830},\n",
       " {'Conv': 135609, 'Arb': 0, 'None': 11830}]"
      ]
     },
     "execution_count": 6,
     "metadata": {},
     "output_type": "execute_result"
    }
   ],
   "source": [
    "res"
   ]
  },
  {
   "cell_type": "code",
   "execution_count": 7,
   "metadata": {},
   "outputs": [
    {
     "data": {
      "image/png": "[encoded data removed]",
      "text/plain": [
       "<Figure size 432x288 with 1 Axes>"
      ]
     },
     "metadata": {
      "needs_background": "light"
     },
     "output_type": "display_data"
    }
   ],
   "source": [
    "labels = ['0', '1', '2', '3', '4', '5', '6', '7', '8', '9', '10', '11', '12', '13', '14', '15', '16', '17', '18']\n",
    "\n",
    "conv = [res[i]['Conv'] / len(df) * 100 for i in range(0,19)]\n",
    "arb = [res[i]['Arb'] / len(df) * 100  for i in range(0,19)]\n",
    "none = [res[i]['None'] / len(df) * 100  for i in range(0,19)]\n",
    "x = np.arange(len(labels))\n",
    "width = 0.5\n",
    "\n",
    "\n",
    "arb_bottom = conv\n",
    "none_bottom = [conv[i]+arb[i] for i in range(len(conv))]\n",
    "p1 = plt.bar(x, conv, width)\n",
    "p2 = plt.bar(x, arb, width, bottom=arb_bottom)\n",
    "p3 = plt.bar(x, none, width, bottom=none_bottom)\n",
    "\n",
    "plt.ylabel('Percentage')\n",
    "plt.xlabel('c_rule')\n",
    "plt.title('Trade distribution by c_rule value')\n",
    "plt.legend((p1[0], p2[0], p3[0]), ('Convenience', 'Arbitrage', 'None'), bbox_to_anchor=(0.67,0.65,0.65,0.38))\n",
    "plt.xticks(x, labels)\n",
    "plt.yticks(np.arange(0, 105, 5))\n",
    "\n",
    "plt.show()"
   ]
  },
  {
   "cell_type": "markdown",
   "metadata": {},
   "source": [
    "As shown in the plot, the convenience percentage increases as the c_rule parameter is also increased. By looking at the classifier function, it becomes clear that this behavior is coherent, because as said before, the c_rule defines how precise a convenience trade usually is. Thus, the number of trades that are precise enough to be considered an arbitrage trade for high c_rule values is severely low."
   ]
  }
 ],
 "metadata": {
  "kernelspec": {
   "display_name": "Python 3",
   "language": "python",
   "name": "python3"
  },
  "language_info": {
   "codemirror_mode": {
    "name": "ipython",
    "version": 3
   },
   "file_extension": ".py",
   "mimetype": "text/x-python",
   "name": "python",
   "nbconvert_exporter": "python",
   "pygments_lexer": "ipython3",
   "version": "3.6.8"
  }
 },
 "nbformat": 4,
 "nbformat_minor": 4
}
